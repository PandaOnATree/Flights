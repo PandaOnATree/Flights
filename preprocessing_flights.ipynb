{
 "cells": [
  {
   "cell_type": "markdown",
   "id": "fef6a3e7",
   "metadata": {},
   "source": [
    "# Flights analysis - preprocessing"
   ]
  },
  {
   "cell_type": "markdown",
   "id": "92ba4b3f",
   "metadata": {},
   "source": [
    "## Import libraries"
   ]
  },
  {
   "cell_type": "code",
   "execution_count": 1,
   "id": "72a65dda",
   "metadata": {
    "collapsed": true,
    "jupyter": {
     "outputs_hidden": true
    },
    "tags": []
   },
   "outputs": [],
   "source": [
    "import pandas as pd\n",
    "import numpy as np\n",
    "import matplotlib.pyplot as plt\n",
    "from matplotlib import style\n",
    "\n",
    "import seaborn as sns\n",
    "plt.style.use('fivethirtyeight')\n",
    "\n",
    "from scalers import *"
   ]
  },
  {
   "cell_type": "markdown",
   "id": "d16d99e6",
   "metadata": {},
   "source": [
    "## Load data"
   ]
  },
  {
   "cell_type": "code",
   "execution_count": 2,
   "id": "d19e862a",
   "metadata": {
    "collapsed": true,
    "jupyter": {
     "outputs_hidden": true
    },
    "tags": []
   },
   "outputs": [
    {
     "data": {
      "text/html": [
       "<div>\n",
       "<style scoped>\n",
       "    .dataframe tbody tr th:only-of-type {\n",
       "        vertical-align: middle;\n",
       "    }\n",
       "\n",
       "    .dataframe tbody tr th {\n",
       "        vertical-align: top;\n",
       "    }\n",
       "\n",
       "    .dataframe thead th {\n",
       "        text-align: right;\n",
       "    }\n",
       "</style>\n",
       "<table border=\"1\" class=\"dataframe\">\n",
       "  <thead>\n",
       "    <tr style=\"text-align: right;\">\n",
       "      <th></th>\n",
       "      <th>Flight</th>\n",
       "      <th>Time</th>\n",
       "      <th>Length</th>\n",
       "      <th>Airline</th>\n",
       "      <th>AirportFrom</th>\n",
       "      <th>AirportTo</th>\n",
       "      <th>DayOfWeek</th>\n",
       "      <th>Class</th>\n",
       "    </tr>\n",
       "  </thead>\n",
       "  <tbody>\n",
       "    <tr>\n",
       "      <th>0</th>\n",
       "      <td>2313.0</td>\n",
       "      <td>1296.0</td>\n",
       "      <td>141.0</td>\n",
       "      <td>DL</td>\n",
       "      <td>ATL</td>\n",
       "      <td>HOU</td>\n",
       "      <td>1</td>\n",
       "      <td>0</td>\n",
       "    </tr>\n",
       "    <tr>\n",
       "      <th>1</th>\n",
       "      <td>6948.0</td>\n",
       "      <td>360.0</td>\n",
       "      <td>146.0</td>\n",
       "      <td>OO</td>\n",
       "      <td>COS</td>\n",
       "      <td>ORD</td>\n",
       "      <td>4</td>\n",
       "      <td>0</td>\n",
       "    </tr>\n",
       "    <tr>\n",
       "      <th>2</th>\n",
       "      <td>1247.0</td>\n",
       "      <td>1170.0</td>\n",
       "      <td>143.0</td>\n",
       "      <td>B6</td>\n",
       "      <td>BOS</td>\n",
       "      <td>CLT</td>\n",
       "      <td>3</td>\n",
       "      <td>0</td>\n",
       "    </tr>\n",
       "    <tr>\n",
       "      <th>3</th>\n",
       "      <td>31.0</td>\n",
       "      <td>1410.0</td>\n",
       "      <td>344.0</td>\n",
       "      <td>US</td>\n",
       "      <td>OGG</td>\n",
       "      <td>PHX</td>\n",
       "      <td>6</td>\n",
       "      <td>0</td>\n",
       "    </tr>\n",
       "    <tr>\n",
       "      <th>4</th>\n",
       "      <td>563.0</td>\n",
       "      <td>692.0</td>\n",
       "      <td>98.0</td>\n",
       "      <td>FL</td>\n",
       "      <td>BMI</td>\n",
       "      <td>ATL</td>\n",
       "      <td>4</td>\n",
       "      <td>0</td>\n",
       "    </tr>\n",
       "    <tr>\n",
       "      <th>...</th>\n",
       "      <td>...</td>\n",
       "      <td>...</td>\n",
       "      <td>...</td>\n",
       "      <td>...</td>\n",
       "      <td>...</td>\n",
       "      <td>...</td>\n",
       "      <td>...</td>\n",
       "      <td>...</td>\n",
       "    </tr>\n",
       "    <tr>\n",
       "      <th>539377</th>\n",
       "      <td>6973.0</td>\n",
       "      <td>530.0</td>\n",
       "      <td>72.0</td>\n",
       "      <td>OO</td>\n",
       "      <td>GEG</td>\n",
       "      <td>SEA</td>\n",
       "      <td>5</td>\n",
       "      <td>1</td>\n",
       "    </tr>\n",
       "    <tr>\n",
       "      <th>539378</th>\n",
       "      <td>1264.0</td>\n",
       "      <td>560.0</td>\n",
       "      <td>115.0</td>\n",
       "      <td>WN</td>\n",
       "      <td>LAS</td>\n",
       "      <td>DEN</td>\n",
       "      <td>4</td>\n",
       "      <td>1</td>\n",
       "    </tr>\n",
       "    <tr>\n",
       "      <th>539379</th>\n",
       "      <td>5209.0</td>\n",
       "      <td>827.0</td>\n",
       "      <td>74.0</td>\n",
       "      <td>EV</td>\n",
       "      <td>CAE</td>\n",
       "      <td>ATL</td>\n",
       "      <td>2</td>\n",
       "      <td>1</td>\n",
       "    </tr>\n",
       "    <tr>\n",
       "      <th>539380</th>\n",
       "      <td>607.0</td>\n",
       "      <td>715.0</td>\n",
       "      <td>65.0</td>\n",
       "      <td>WN</td>\n",
       "      <td>BWI</td>\n",
       "      <td>BUF</td>\n",
       "      <td>4</td>\n",
       "      <td>1</td>\n",
       "    </tr>\n",
       "    <tr>\n",
       "      <th>539381</th>\n",
       "      <td>6377.0</td>\n",
       "      <td>770.0</td>\n",
       "      <td>55.0</td>\n",
       "      <td>OO</td>\n",
       "      <td>CPR</td>\n",
       "      <td>DEN</td>\n",
       "      <td>2</td>\n",
       "      <td>1</td>\n",
       "    </tr>\n",
       "  </tbody>\n",
       "</table>\n",
       "<p>539382 rows × 8 columns</p>\n",
       "</div>"
      ],
      "text/plain": [
       "        Flight    Time  Length Airline AirportFrom AirportTo  DayOfWeek  Class\n",
       "0       2313.0  1296.0   141.0      DL         ATL       HOU          1      0\n",
       "1       6948.0   360.0   146.0      OO         COS       ORD          4      0\n",
       "2       1247.0  1170.0   143.0      B6         BOS       CLT          3      0\n",
       "3         31.0  1410.0   344.0      US         OGG       PHX          6      0\n",
       "4        563.0   692.0    98.0      FL         BMI       ATL          4      0\n",
       "...        ...     ...     ...     ...         ...       ...        ...    ...\n",
       "539377  6973.0   530.0    72.0      OO         GEG       SEA          5      1\n",
       "539378  1264.0   560.0   115.0      WN         LAS       DEN          4      1\n",
       "539379  5209.0   827.0    74.0      EV         CAE       ATL          2      1\n",
       "539380   607.0   715.0    65.0      WN         BWI       BUF          4      1\n",
       "539381  6377.0   770.0    55.0      OO         CPR       DEN          2      1\n",
       "\n",
       "[539382 rows x 8 columns]"
      ]
     },
     "execution_count": 2,
     "metadata": {},
     "output_type": "execute_result"
    }
   ],
   "source": [
    "data = pd.read_csv(\"src/airlines_delay.csv\")\n",
    "data"
   ]
  },
  {
   "cell_type": "code",
   "execution_count": 3,
   "id": "ca47aeae",
   "metadata": {
    "collapsed": true,
    "jupyter": {
     "outputs_hidden": true
    },
    "tags": []
   },
   "outputs": [
    {
     "data": {
      "text/html": [
       "<div>\n",
       "<style scoped>\n",
       "    .dataframe tbody tr th:only-of-type {\n",
       "        vertical-align: middle;\n",
       "    }\n",
       "\n",
       "    .dataframe tbody tr th {\n",
       "        vertical-align: top;\n",
       "    }\n",
       "\n",
       "    .dataframe thead th {\n",
       "        text-align: right;\n",
       "    }\n",
       "</style>\n",
       "<table border=\"1\" class=\"dataframe\">\n",
       "  <thead>\n",
       "    <tr style=\"text-align: right;\">\n",
       "      <th></th>\n",
       "      <th>Time</th>\n",
       "      <th>Length</th>\n",
       "      <th>Airline</th>\n",
       "      <th>AirportFrom</th>\n",
       "      <th>AirportTo</th>\n",
       "      <th>DayOfWeek</th>\n",
       "      <th>Class</th>\n",
       "    </tr>\n",
       "  </thead>\n",
       "  <tbody>\n",
       "    <tr>\n",
       "      <th>0</th>\n",
       "      <td>1296.0</td>\n",
       "      <td>141.0</td>\n",
       "      <td>DL</td>\n",
       "      <td>ATL</td>\n",
       "      <td>HOU</td>\n",
       "      <td>1</td>\n",
       "      <td>0</td>\n",
       "    </tr>\n",
       "    <tr>\n",
       "      <th>1</th>\n",
       "      <td>360.0</td>\n",
       "      <td>146.0</td>\n",
       "      <td>OO</td>\n",
       "      <td>COS</td>\n",
       "      <td>ORD</td>\n",
       "      <td>4</td>\n",
       "      <td>0</td>\n",
       "    </tr>\n",
       "    <tr>\n",
       "      <th>2</th>\n",
       "      <td>1170.0</td>\n",
       "      <td>143.0</td>\n",
       "      <td>B6</td>\n",
       "      <td>BOS</td>\n",
       "      <td>CLT</td>\n",
       "      <td>3</td>\n",
       "      <td>0</td>\n",
       "    </tr>\n",
       "    <tr>\n",
       "      <th>3</th>\n",
       "      <td>1410.0</td>\n",
       "      <td>344.0</td>\n",
       "      <td>US</td>\n",
       "      <td>OGG</td>\n",
       "      <td>PHX</td>\n",
       "      <td>6</td>\n",
       "      <td>0</td>\n",
       "    </tr>\n",
       "    <tr>\n",
       "      <th>4</th>\n",
       "      <td>692.0</td>\n",
       "      <td>98.0</td>\n",
       "      <td>FL</td>\n",
       "      <td>BMI</td>\n",
       "      <td>ATL</td>\n",
       "      <td>4</td>\n",
       "      <td>0</td>\n",
       "    </tr>\n",
       "    <tr>\n",
       "      <th>...</th>\n",
       "      <td>...</td>\n",
       "      <td>...</td>\n",
       "      <td>...</td>\n",
       "      <td>...</td>\n",
       "      <td>...</td>\n",
       "      <td>...</td>\n",
       "      <td>...</td>\n",
       "    </tr>\n",
       "    <tr>\n",
       "      <th>539377</th>\n",
       "      <td>530.0</td>\n",
       "      <td>72.0</td>\n",
       "      <td>OO</td>\n",
       "      <td>GEG</td>\n",
       "      <td>SEA</td>\n",
       "      <td>5</td>\n",
       "      <td>1</td>\n",
       "    </tr>\n",
       "    <tr>\n",
       "      <th>539378</th>\n",
       "      <td>560.0</td>\n",
       "      <td>115.0</td>\n",
       "      <td>WN</td>\n",
       "      <td>LAS</td>\n",
       "      <td>DEN</td>\n",
       "      <td>4</td>\n",
       "      <td>1</td>\n",
       "    </tr>\n",
       "    <tr>\n",
       "      <th>539379</th>\n",
       "      <td>827.0</td>\n",
       "      <td>74.0</td>\n",
       "      <td>EV</td>\n",
       "      <td>CAE</td>\n",
       "      <td>ATL</td>\n",
       "      <td>2</td>\n",
       "      <td>1</td>\n",
       "    </tr>\n",
       "    <tr>\n",
       "      <th>539380</th>\n",
       "      <td>715.0</td>\n",
       "      <td>65.0</td>\n",
       "      <td>WN</td>\n",
       "      <td>BWI</td>\n",
       "      <td>BUF</td>\n",
       "      <td>4</td>\n",
       "      <td>1</td>\n",
       "    </tr>\n",
       "    <tr>\n",
       "      <th>539381</th>\n",
       "      <td>770.0</td>\n",
       "      <td>55.0</td>\n",
       "      <td>OO</td>\n",
       "      <td>CPR</td>\n",
       "      <td>DEN</td>\n",
       "      <td>2</td>\n",
       "      <td>1</td>\n",
       "    </tr>\n",
       "  </tbody>\n",
       "</table>\n",
       "<p>539382 rows × 7 columns</p>\n",
       "</div>"
      ],
      "text/plain": [
       "          Time  Length Airline AirportFrom AirportTo  DayOfWeek  Class\n",
       "0       1296.0   141.0      DL         ATL       HOU          1      0\n",
       "1        360.0   146.0      OO         COS       ORD          4      0\n",
       "2       1170.0   143.0      B6         BOS       CLT          3      0\n",
       "3       1410.0   344.0      US         OGG       PHX          6      0\n",
       "4        692.0    98.0      FL         BMI       ATL          4      0\n",
       "...        ...     ...     ...         ...       ...        ...    ...\n",
       "539377   530.0    72.0      OO         GEG       SEA          5      1\n",
       "539378   560.0   115.0      WN         LAS       DEN          4      1\n",
       "539379   827.0    74.0      EV         CAE       ATL          2      1\n",
       "539380   715.0    65.0      WN         BWI       BUF          4      1\n",
       "539381   770.0    55.0      OO         CPR       DEN          2      1\n",
       "\n",
       "[539382 rows x 7 columns]"
      ]
     },
     "execution_count": 3,
     "metadata": {},
     "output_type": "execute_result"
    }
   ],
   "source": [
    "data = data.drop([\"Flight\"], axis=1)\n",
    "data"
   ]
  },
  {
   "cell_type": "code",
   "execution_count": 4,
   "id": "ad2ddbac",
   "metadata": {
    "collapsed": true,
    "jupyter": {
     "outputs_hidden": true
    },
    "tags": []
   },
   "outputs": [],
   "source": [
    "data1 = data.copy()"
   ]
  },
  {
   "cell_type": "markdown",
   "id": "180779cb",
   "metadata": {},
   "source": [
    "## General info"
   ]
  },
  {
   "cell_type": "code",
   "execution_count": 5,
   "id": "7909c669",
   "metadata": {
    "collapsed": true,
    "jupyter": {
     "outputs_hidden": true
    },
    "tags": []
   },
   "outputs": [
    {
     "name": "stdout",
     "output_type": "stream",
     "text": [
      "<class 'pandas.core.frame.DataFrame'>\n",
      "RangeIndex: 539382 entries, 0 to 539381\n",
      "Data columns (total 7 columns):\n",
      " #   Column       Non-Null Count   Dtype  \n",
      "---  ------       --------------   -----  \n",
      " 0   Time         539382 non-null  float64\n",
      " 1   Length       539382 non-null  float64\n",
      " 2   Airline      539382 non-null  object \n",
      " 3   AirportFrom  539382 non-null  object \n",
      " 4   AirportTo    539382 non-null  object \n",
      " 5   DayOfWeek    539382 non-null  int64  \n",
      " 6   Class        539382 non-null  int64  \n",
      "dtypes: float64(2), int64(2), object(3)\n",
      "memory usage: 28.8+ MB\n"
     ]
    }
   ],
   "source": [
    "data.info()"
   ]
  },
  {
   "cell_type": "markdown",
   "id": "57308bac",
   "metadata": {},
   "source": [
    "## Preprocessing"
   ]
  },
  {
   "cell_type": "markdown",
   "id": "07e32aa9-b58e-41fd-b0b2-c6b41a187d19",
   "metadata": {},
   "source": [
    "### Checking for duplicated elements"
   ]
  },
  {
   "cell_type": "code",
   "execution_count": 6,
   "id": "22e93937-2b76-4e12-b7f9-93a42083639c",
   "metadata": {
    "collapsed": true,
    "jupyter": {
     "outputs_hidden": true
    },
    "tags": []
   },
   "outputs": [
    {
     "data": {
      "text/html": [
       "<div>\n",
       "<style scoped>\n",
       "    .dataframe tbody tr th:only-of-type {\n",
       "        vertical-align: middle;\n",
       "    }\n",
       "\n",
       "    .dataframe tbody tr th {\n",
       "        vertical-align: top;\n",
       "    }\n",
       "\n",
       "    .dataframe thead th {\n",
       "        text-align: right;\n",
       "    }\n",
       "</style>\n",
       "<table border=\"1\" class=\"dataframe\">\n",
       "  <thead>\n",
       "    <tr style=\"text-align: right;\">\n",
       "      <th></th>\n",
       "      <th>Time</th>\n",
       "      <th>Length</th>\n",
       "      <th>Airline</th>\n",
       "      <th>AirportFrom</th>\n",
       "      <th>AirportTo</th>\n",
       "      <th>DayOfWeek</th>\n",
       "      <th>Class</th>\n",
       "    </tr>\n",
       "  </thead>\n",
       "  <tbody>\n",
       "    <tr>\n",
       "      <th>373</th>\n",
       "      <td>660.0</td>\n",
       "      <td>95.0</td>\n",
       "      <td>MQ</td>\n",
       "      <td>BNA</td>\n",
       "      <td>DCA</td>\n",
       "      <td>3</td>\n",
       "      <td>0</td>\n",
       "    </tr>\n",
       "    <tr>\n",
       "      <th>472</th>\n",
       "      <td>1175.0</td>\n",
       "      <td>50.0</td>\n",
       "      <td>MQ</td>\n",
       "      <td>GRK</td>\n",
       "      <td>DFW</td>\n",
       "      <td>1</td>\n",
       "      <td>0</td>\n",
       "    </tr>\n",
       "    <tr>\n",
       "      <th>486</th>\n",
       "      <td>1410.0</td>\n",
       "      <td>344.0</td>\n",
       "      <td>US</td>\n",
       "      <td>OGG</td>\n",
       "      <td>PHX</td>\n",
       "      <td>7</td>\n",
       "      <td>0</td>\n",
       "    </tr>\n",
       "    <tr>\n",
       "      <th>940</th>\n",
       "      <td>1053.0</td>\n",
       "      <td>145.0</td>\n",
       "      <td>OO</td>\n",
       "      <td>FAR</td>\n",
       "      <td>SLC</td>\n",
       "      <td>4</td>\n",
       "      <td>0</td>\n",
       "    </tr>\n",
       "    <tr>\n",
       "      <th>969</th>\n",
       "      <td>1185.0</td>\n",
       "      <td>78.0</td>\n",
       "      <td>9E</td>\n",
       "      <td>MEM</td>\n",
       "      <td>COU</td>\n",
       "      <td>3</td>\n",
       "      <td>0</td>\n",
       "    </tr>\n",
       "    <tr>\n",
       "      <th>...</th>\n",
       "      <td>...</td>\n",
       "      <td>...</td>\n",
       "      <td>...</td>\n",
       "      <td>...</td>\n",
       "      <td>...</td>\n",
       "      <td>...</td>\n",
       "      <td>...</td>\n",
       "    </tr>\n",
       "    <tr>\n",
       "      <th>539374</th>\n",
       "      <td>933.0</td>\n",
       "      <td>158.0</td>\n",
       "      <td>FL</td>\n",
       "      <td>MCO</td>\n",
       "      <td>MDW</td>\n",
       "      <td>3</td>\n",
       "      <td>1</td>\n",
       "    </tr>\n",
       "    <tr>\n",
       "      <th>539376</th>\n",
       "      <td>652.0</td>\n",
       "      <td>83.0</td>\n",
       "      <td>DL</td>\n",
       "      <td>LAS</td>\n",
       "      <td>SLC</td>\n",
       "      <td>4</td>\n",
       "      <td>1</td>\n",
       "    </tr>\n",
       "    <tr>\n",
       "      <th>539378</th>\n",
       "      <td>560.0</td>\n",
       "      <td>115.0</td>\n",
       "      <td>WN</td>\n",
       "      <td>LAS</td>\n",
       "      <td>DEN</td>\n",
       "      <td>4</td>\n",
       "      <td>1</td>\n",
       "    </tr>\n",
       "    <tr>\n",
       "      <th>539380</th>\n",
       "      <td>715.0</td>\n",
       "      <td>65.0</td>\n",
       "      <td>WN</td>\n",
       "      <td>BWI</td>\n",
       "      <td>BUF</td>\n",
       "      <td>4</td>\n",
       "      <td>1</td>\n",
       "    </tr>\n",
       "    <tr>\n",
       "      <th>539381</th>\n",
       "      <td>770.0</td>\n",
       "      <td>55.0</td>\n",
       "      <td>OO</td>\n",
       "      <td>CPR</td>\n",
       "      <td>DEN</td>\n",
       "      <td>2</td>\n",
       "      <td>1</td>\n",
       "    </tr>\n",
       "  </tbody>\n",
       "</table>\n",
       "<p>223629 rows × 7 columns</p>\n",
       "</div>"
      ],
      "text/plain": [
       "          Time  Length Airline AirportFrom AirportTo  DayOfWeek  Class\n",
       "373      660.0    95.0      MQ         BNA       DCA          3      0\n",
       "472     1175.0    50.0      MQ         GRK       DFW          1      0\n",
       "486     1410.0   344.0      US         OGG       PHX          7      0\n",
       "940     1053.0   145.0      OO         FAR       SLC          4      0\n",
       "969     1185.0    78.0      9E         MEM       COU          3      0\n",
       "...        ...     ...     ...         ...       ...        ...    ...\n",
       "539374   933.0   158.0      FL         MCO       MDW          3      1\n",
       "539376   652.0    83.0      DL         LAS       SLC          4      1\n",
       "539378   560.0   115.0      WN         LAS       DEN          4      1\n",
       "539380   715.0    65.0      WN         BWI       BUF          4      1\n",
       "539381   770.0    55.0      OO         CPR       DEN          2      1\n",
       "\n",
       "[223629 rows x 7 columns]"
      ]
     },
     "execution_count": 6,
     "metadata": {},
     "output_type": "execute_result"
    }
   ],
   "source": [
    "duplicated_rows = data[data.duplicated()]\n",
    "duplicated_rows"
   ]
  },
  {
   "cell_type": "code",
   "execution_count": 7,
   "id": "6f294efb-3668-409c-8884-5b18d57892c5",
   "metadata": {
    "collapsed": true,
    "jupyter": {
     "outputs_hidden": true
    },
    "tags": []
   },
   "outputs": [
    {
     "name": "stdout",
     "output_type": "stream",
     "text": [
      "<class 'pandas.core.frame.DataFrame'>\n",
      "Int64Index: 315753 entries, 0 to 539379\n",
      "Data columns (total 7 columns):\n",
      " #   Column       Non-Null Count   Dtype  \n",
      "---  ------       --------------   -----  \n",
      " 0   Time         315753 non-null  float64\n",
      " 1   Length       315753 non-null  float64\n",
      " 2   Airline      315753 non-null  object \n",
      " 3   AirportFrom  315753 non-null  object \n",
      " 4   AirportTo    315753 non-null  object \n",
      " 5   DayOfWeek    315753 non-null  int64  \n",
      " 6   Class        315753 non-null  int64  \n",
      "dtypes: float64(2), int64(2), object(3)\n",
      "memory usage: 19.3+ MB\n"
     ]
    }
   ],
   "source": [
    "data.drop_duplicates(inplace=True)\n",
    "data.info()"
   ]
  },
  {
   "cell_type": "markdown",
   "id": "92a97528-5748-4da4-ba4d-380fe95ef5db",
   "metadata": {},
   "source": [
    "### Checking if data are balanced"
   ]
  },
  {
   "cell_type": "code",
   "execution_count": 8,
   "id": "f2961d9b-0450-4f53-bfd8-102eec590d22",
   "metadata": {
    "collapsed": true,
    "jupyter": {
     "outputs_hidden": true
    },
    "tags": []
   },
   "outputs": [
    {
     "data": {
      "text/plain": [
       "0.47838025291921216"
      ]
     },
     "execution_count": 8,
     "metadata": {},
     "output_type": "execute_result"
    }
   ],
   "source": [
    "data[\"Class\"].sum()/data[\"Class\"].shape[0]"
   ]
  },
  {
   "cell_type": "markdown",
   "id": "a4f5c580-80c8-4e4f-ae56-71a5e9b06c1c",
   "metadata": {},
   "source": [
    "The labels of the dataset are quite well balanced."
   ]
  },
  {
   "cell_type": "markdown",
   "id": "067c8f74-1114-483d-9d2a-b2adb02084d9",
   "metadata": {},
   "source": [
    "## Dummies"
   ]
  },
  {
   "cell_type": "markdown",
   "id": "a2722a79-e5ea-428b-b9bb-c1d2d23c00fc",
   "metadata": {},
   "source": [
    "We have many columns of categorical values so we create a function which will automatically create all dummy variables.\n",
    "\n",
    "Note that for each dummy feature we need to group corresponding values separately, and it is our choice how to do it."
   ]
  },
  {
   "cell_type": "code",
   "execution_count": 9,
   "id": "9e0feaa1-06f8-4861-81fa-01012ac568b1",
   "metadata": {
    "collapsed": true,
    "jupyter": {
     "outputs_hidden": true
    }
   },
   "outputs": [],
   "source": [
    "# Create a function to extract dummies of a given column and insert them into dataset.\n",
    "# First column among dummies is always removed as it acts as a baseline for other dummies of a given feature\n",
    "def create_dummies(column, data):\n",
    "    \n",
    "    dummies_columns = pd.get_dummies(data[column], prefix=column, drop_first=True)\n",
    "    data = pd.concat([data, dummies_columns], axis=1)\n",
    "    class_col = data.pop(\"Class\")\n",
    "    data[\"Class\"] = class_col\n",
    "    data.drop(column, axis=1, inplace=True)\n",
    "    \n",
    "    return data"
   ]
  },
  {
   "cell_type": "markdown",
   "id": "bd0e0626",
   "metadata": {},
   "source": [
    "### Airline"
   ]
  },
  {
   "cell_type": "code",
   "execution_count": 10,
   "id": "acb8b4f9",
   "metadata": {
    "collapsed": true,
    "jupyter": {
     "outputs_hidden": true
    },
    "tags": []
   },
   "outputs": [
    {
     "data": {
      "text/plain": [
       "{'9E',\n",
       " 'AA',\n",
       " 'AS',\n",
       " 'B6',\n",
       " 'CO',\n",
       " 'DL',\n",
       " 'EV',\n",
       " 'F9',\n",
       " 'FL',\n",
       " 'HA',\n",
       " 'MQ',\n",
       " 'OH',\n",
       " 'OO',\n",
       " 'UA',\n",
       " 'US',\n",
       " 'WN',\n",
       " 'XE',\n",
       " 'YV'}"
      ]
     },
     "execution_count": 10,
     "metadata": {},
     "output_type": "execute_result"
    }
   ],
   "source": [
    "set(data[\"Airline\"])"
   ]
  },
  {
   "cell_type": "markdown",
   "id": "6a76d286",
   "metadata": {},
   "source": [
    "\"Airline\" is a cathegorical variable. We can divide all airlines into 3 groups: standard (0), regional (1) and cheap (2):\n",
    "\n",
    "(We use Wikipedia to encode a status of each airline)\n",
    "\n",
    "- 9E - reg - 1\n",
    "- AA - std - 0\n",
    "- AS - std - 0\n",
    "- B6 - che - 2\n",
    "- CO - std - 0\n",
    "- DL - std - 0\n",
    "- EV - che - 2\n",
    "- F9 - che - 2\n",
    "- FL - che - 2\n",
    "- HA - std - 0\n",
    "- MQ - reg - 1\n",
    "- OH - reg - 1\n",
    "- OO - reg - 1\n",
    "- UA - std - 0\n",
    "- US - std - 0\n",
    "- WN - che - 2\n",
    "- XE - std - 0\n",
    "- YV - reg - 1\n"
   ]
  },
  {
   "cell_type": "code",
   "execution_count": 11,
   "id": "73b66123",
   "metadata": {
    "collapsed": true,
    "jupyter": {
     "outputs_hidden": true
    },
    "tags": []
   },
   "outputs": [],
   "source": [
    "airline_dict = {\"9E\":1, \"AA\":0, \"AS\":0, \"B6\":2, \"CO\":0, \"DL\":0, \"EV\":2, \"F9\":2, \"FL\":2, \"HA\":0, \n",
    "                \"MQ\":1, \"OH\":1, \"OO\":1, \"UA\":0, \"US\":0, \"WN\":2, \"XE\":0, \"YV\": 1}"
   ]
  },
  {
   "cell_type": "code",
   "execution_count": 12,
   "id": "8283af71",
   "metadata": {
    "collapsed": true,
    "jupyter": {
     "outputs_hidden": true
    },
    "tags": []
   },
   "outputs": [],
   "source": [
    "data[\"Airline\"] = data[\"Airline\"].map(airline_dict)"
   ]
  },
  {
   "cell_type": "code",
   "execution_count": 13,
   "id": "c2ff3730-8daf-427d-a331-ce9290117067",
   "metadata": {
    "collapsed": true,
    "jupyter": {
     "outputs_hidden": true
    }
   },
   "outputs": [],
   "source": [
    "data = create_dummies(\"Airline\", data)"
   ]
  },
  {
   "cell_type": "markdown",
   "id": "1f15fd0a",
   "metadata": {},
   "source": [
    "### AirportFrom and AirportTo"
   ]
  },
  {
   "cell_type": "code",
   "execution_count": 14,
   "id": "fd8025db",
   "metadata": {
    "collapsed": true,
    "jupyter": {
     "outputs_hidden": true
    },
    "tags": []
   },
   "outputs": [
    {
     "data": {
      "text/plain": [
       "ATL    22752\n",
       "ORD    14613\n",
       "DEN    12420\n",
       "DFW    10282\n",
       "IAH    10029\n",
       "       ...  \n",
       "MMH       10\n",
       "SJT       10\n",
       "GUM        7\n",
       "ADK        4\n",
       "ABR        2\n",
       "Name: AirportFrom, Length: 293, dtype: int64"
      ]
     },
     "execution_count": 14,
     "metadata": {},
     "output_type": "execute_result"
    }
   ],
   "source": [
    "data[\"AirportFrom\"].value_counts()"
   ]
  },
  {
   "cell_type": "code",
   "execution_count": 15,
   "id": "394dda35-990d-4f5e-afcf-69ea299a5867",
   "metadata": {
    "collapsed": true,
    "jupyter": {
     "outputs_hidden": true
    }
   },
   "outputs": [
    {
     "data": {
      "text/plain": [
       "ATL    21873\n",
       "ORD    14087\n",
       "DEN    12244\n",
       "IAH     9934\n",
       "DFW     9729\n",
       "       ...  \n",
       "BLI       10\n",
       "PIE        9\n",
       "GUM        8\n",
       "ADK        2\n",
       "ABR        2\n",
       "Name: AirportTo, Length: 293, dtype: int64"
      ]
     },
     "execution_count": 15,
     "metadata": {},
     "output_type": "execute_result"
    }
   ],
   "source": [
    "data[\"AirportTo\"].value_counts()"
   ]
  },
  {
   "cell_type": "markdown",
   "id": "23a53112",
   "metadata": {},
   "source": [
    "There are 293 different airports in the dataset. We will group them into 7 groups according to frequency of their use/a number of flights departing from (arriving at) them."
   ]
  },
  {
   "cell_type": "code",
   "execution_count": 16,
   "id": "0419ee83",
   "metadata": {
    "collapsed": true,
    "jupyter": {
     "outputs_hidden": true
    },
    "tags": []
   },
   "outputs": [
    {
     "data": {
      "text/html": [
       "<div>\n",
       "<style scoped>\n",
       "    .dataframe tbody tr th:only-of-type {\n",
       "        vertical-align: middle;\n",
       "    }\n",
       "\n",
       "    .dataframe tbody tr th {\n",
       "        vertical-align: top;\n",
       "    }\n",
       "\n",
       "    .dataframe thead th {\n",
       "        text-align: right;\n",
       "    }\n",
       "</style>\n",
       "<table border=\"1\" class=\"dataframe\">\n",
       "  <thead>\n",
       "    <tr style=\"text-align: right;\">\n",
       "      <th></th>\n",
       "      <th>Time</th>\n",
       "      <th>Length</th>\n",
       "      <th>AirportFrom</th>\n",
       "      <th>AirportTo</th>\n",
       "      <th>DayOfWeek</th>\n",
       "      <th>Airline_1</th>\n",
       "      <th>Airline_2</th>\n",
       "      <th>Class</th>\n",
       "    </tr>\n",
       "  </thead>\n",
       "  <tbody>\n",
       "    <tr>\n",
       "      <th>0</th>\n",
       "      <td>1296.0</td>\n",
       "      <td>141.0</td>\n",
       "      <td>0</td>\n",
       "      <td>3</td>\n",
       "      <td>1</td>\n",
       "      <td>0</td>\n",
       "      <td>0</td>\n",
       "      <td>0</td>\n",
       "    </tr>\n",
       "    <tr>\n",
       "      <th>1</th>\n",
       "      <td>360.0</td>\n",
       "      <td>146.0</td>\n",
       "      <td>4</td>\n",
       "      <td>1</td>\n",
       "      <td>4</td>\n",
       "      <td>1</td>\n",
       "      <td>0</td>\n",
       "      <td>0</td>\n",
       "    </tr>\n",
       "    <tr>\n",
       "      <th>2</th>\n",
       "      <td>1170.0</td>\n",
       "      <td>143.0</td>\n",
       "      <td>2</td>\n",
       "      <td>2</td>\n",
       "      <td>3</td>\n",
       "      <td>0</td>\n",
       "      <td>1</td>\n",
       "      <td>0</td>\n",
       "    </tr>\n",
       "    <tr>\n",
       "      <th>3</th>\n",
       "      <td>1410.0</td>\n",
       "      <td>344.0</td>\n",
       "      <td>4</td>\n",
       "      <td>2</td>\n",
       "      <td>6</td>\n",
       "      <td>0</td>\n",
       "      <td>0</td>\n",
       "      <td>0</td>\n",
       "    </tr>\n",
       "    <tr>\n",
       "      <th>4</th>\n",
       "      <td>692.0</td>\n",
       "      <td>98.0</td>\n",
       "      <td>4</td>\n",
       "      <td>0</td>\n",
       "      <td>4</td>\n",
       "      <td>0</td>\n",
       "      <td>1</td>\n",
       "      <td>0</td>\n",
       "    </tr>\n",
       "    <tr>\n",
       "      <th>...</th>\n",
       "      <td>...</td>\n",
       "      <td>...</td>\n",
       "      <td>...</td>\n",
       "      <td>...</td>\n",
       "      <td>...</td>\n",
       "      <td>...</td>\n",
       "      <td>...</td>\n",
       "      <td>...</td>\n",
       "    </tr>\n",
       "    <tr>\n",
       "      <th>539371</th>\n",
       "      <td>1170.0</td>\n",
       "      <td>86.0</td>\n",
       "      <td>1</td>\n",
       "      <td>4</td>\n",
       "      <td>1</td>\n",
       "      <td>0</td>\n",
       "      <td>0</td>\n",
       "      <td>1</td>\n",
       "    </tr>\n",
       "    <tr>\n",
       "      <th>539373</th>\n",
       "      <td>1240.0</td>\n",
       "      <td>154.0</td>\n",
       "      <td>3</td>\n",
       "      <td>2</td>\n",
       "      <td>7</td>\n",
       "      <td>0</td>\n",
       "      <td>0</td>\n",
       "      <td>1</td>\n",
       "    </tr>\n",
       "    <tr>\n",
       "      <th>539375</th>\n",
       "      <td>480.0</td>\n",
       "      <td>287.0</td>\n",
       "      <td>2</td>\n",
       "      <td>2</td>\n",
       "      <td>2</td>\n",
       "      <td>0</td>\n",
       "      <td>0</td>\n",
       "      <td>1</td>\n",
       "    </tr>\n",
       "    <tr>\n",
       "      <th>539377</th>\n",
       "      <td>530.0</td>\n",
       "      <td>72.0</td>\n",
       "      <td>4</td>\n",
       "      <td>3</td>\n",
       "      <td>5</td>\n",
       "      <td>1</td>\n",
       "      <td>0</td>\n",
       "      <td>1</td>\n",
       "    </tr>\n",
       "    <tr>\n",
       "      <th>539379</th>\n",
       "      <td>827.0</td>\n",
       "      <td>74.0</td>\n",
       "      <td>4</td>\n",
       "      <td>0</td>\n",
       "      <td>2</td>\n",
       "      <td>0</td>\n",
       "      <td>1</td>\n",
       "      <td>1</td>\n",
       "    </tr>\n",
       "  </tbody>\n",
       "</table>\n",
       "<p>315753 rows × 8 columns</p>\n",
       "</div>"
      ],
      "text/plain": [
       "          Time  Length  AirportFrom  AirportTo  DayOfWeek  Airline_1  \\\n",
       "0       1296.0   141.0            0          3          1          0   \n",
       "1        360.0   146.0            4          1          4          1   \n",
       "2       1170.0   143.0            2          2          3          0   \n",
       "3       1410.0   344.0            4          2          6          0   \n",
       "4        692.0    98.0            4          0          4          0   \n",
       "...        ...     ...          ...        ...        ...        ...   \n",
       "539371  1170.0    86.0            1          4          1          0   \n",
       "539373  1240.0   154.0            3          2          7          0   \n",
       "539375   480.0   287.0            2          2          2          0   \n",
       "539377   530.0    72.0            4          3          5          1   \n",
       "539379   827.0    74.0            4          0          2          0   \n",
       "\n",
       "        Airline_2  Class  \n",
       "0               0      0  \n",
       "1               0      0  \n",
       "2               1      0  \n",
       "3               0      0  \n",
       "4               1      0  \n",
       "...           ...    ...  \n",
       "539371          0      1  \n",
       "539373          0      1  \n",
       "539375          0      1  \n",
       "539377          0      1  \n",
       "539379          1      1  \n",
       "\n",
       "[315753 rows x 8 columns]"
      ]
     },
     "execution_count": 16,
     "metadata": {},
     "output_type": "execute_result"
    }
   ],
   "source": [
    "# Create a function to group airports\n",
    "def group_cities(airport):\n",
    "    \n",
    "    vc = airport.value_counts()\n",
    "    #print(vc)\n",
    "\n",
    "    a = vc.index.tolist()\n",
    "    b = vc.values.tolist()\n",
    "\n",
    "    dep = {}\n",
    "    for i in range(len(a)):\n",
    "        if b[i]>=20000:\n",
    "            dep[a[i]]=0\n",
    "        elif 20000>b[i]>=10000:\n",
    "            dep[a[i]]=1\n",
    "        elif 10000>b[i]>=5000:\n",
    "            dep[a[i]]=2\n",
    "        elif 5000>b[i]>=1000:\n",
    "            dep[a[i]]=3\n",
    "        else:\n",
    "            dep[a[i]]=4\n",
    "            \n",
    "    airport = airport.map(dep)\n",
    "        \n",
    "    return(airport)\n",
    "    \n",
    "data[\"AirportFrom\"] = group_cities(data[\"AirportFrom\"])\n",
    "data[\"AirportTo\"] = group_cities(data[\"AirportTo\"])\n",
    "\n",
    "data"
   ]
  },
  {
   "cell_type": "code",
   "execution_count": 17,
   "id": "90630da4",
   "metadata": {
    "collapsed": true,
    "jupyter": {
     "outputs_hidden": true
    },
    "tags": []
   },
   "outputs": [
    {
     "data": {
      "image/png": "[encoded data removed]",
      "text/plain": [
       "<Figure size 640x480 with 1 Axes>"
      ]
     },
     "metadata": {},
     "output_type": "display_data"
    }
   ],
   "source": [
    "# Check the distribution of groups of airports\n",
    "num_bins = 5\n",
    "entries, bin_edges, patches = plt.hist([data[\"AirportFrom\"], data[\"AirportTo\"]], \n",
    "                                       bins=num_bins,\n",
    "                                       rwidth=0.7, density=False, \n",
    "                                       label=[\"AirportFrom\", \"AirportTo\"])\n",
    "\n",
    "#plt.xlabel('Groups of frequent-departing airports')\n",
    "#plt.ylabel('Counts')\n",
    "plt.legend(loc=\"upper left\")\n",
    "plt.xlabel('Group the airport belongs to')\n",
    "plt.ylabel('Counts')\n",
    "plt.title('Distribution of Airports')\n",
    "plt.show()"
   ]
  },
  {
   "cell_type": "markdown",
   "id": "981fad8a-bfd7-489b-9863-eefc5d7e0708",
   "metadata": {},
   "source": [
    "### Dummies for \"AirportFrom\""
   ]
  },
  {
   "cell_type": "code",
   "execution_count": 18,
   "id": "912f801e-af3e-4884-b4b8-6dc515329cb4",
   "metadata": {
    "collapsed": true,
    "jupyter": {
     "outputs_hidden": true
    }
   },
   "outputs": [
    {
     "data": {
      "text/html": [
       "<div>\n",
       "<style scoped>\n",
       "    .dataframe tbody tr th:only-of-type {\n",
       "        vertical-align: middle;\n",
       "    }\n",
       "\n",
       "    .dataframe tbody tr th {\n",
       "        vertical-align: top;\n",
       "    }\n",
       "\n",
       "    .dataframe thead th {\n",
       "        text-align: right;\n",
       "    }\n",
       "</style>\n",
       "<table border=\"1\" class=\"dataframe\">\n",
       "  <thead>\n",
       "    <tr style=\"text-align: right;\">\n",
       "      <th></th>\n",
       "      <th>Time</th>\n",
       "      <th>Length</th>\n",
       "      <th>AirportTo</th>\n",
       "      <th>DayOfWeek</th>\n",
       "      <th>Airline_1</th>\n",
       "      <th>Airline_2</th>\n",
       "      <th>AirportFrom_1</th>\n",
       "      <th>AirportFrom_2</th>\n",
       "      <th>AirportFrom_3</th>\n",
       "      <th>AirportFrom_4</th>\n",
       "      <th>Class</th>\n",
       "    </tr>\n",
       "  </thead>\n",
       "  <tbody>\n",
       "    <tr>\n",
       "      <th>0</th>\n",
       "      <td>1296.0</td>\n",
       "      <td>141.0</td>\n",
       "      <td>3</td>\n",
       "      <td>1</td>\n",
       "      <td>0</td>\n",
       "      <td>0</td>\n",
       "      <td>0</td>\n",
       "      <td>0</td>\n",
       "      <td>0</td>\n",
       "      <td>0</td>\n",
       "      <td>0</td>\n",
       "    </tr>\n",
       "    <tr>\n",
       "      <th>1</th>\n",
       "      <td>360.0</td>\n",
       "      <td>146.0</td>\n",
       "      <td>1</td>\n",
       "      <td>4</td>\n",
       "      <td>1</td>\n",
       "      <td>0</td>\n",
       "      <td>0</td>\n",
       "      <td>0</td>\n",
       "      <td>0</td>\n",
       "      <td>1</td>\n",
       "      <td>0</td>\n",
       "    </tr>\n",
       "    <tr>\n",
       "      <th>2</th>\n",
       "      <td>1170.0</td>\n",
       "      <td>143.0</td>\n",
       "      <td>2</td>\n",
       "      <td>3</td>\n",
       "      <td>0</td>\n",
       "      <td>1</td>\n",
       "      <td>0</td>\n",
       "      <td>1</td>\n",
       "      <td>0</td>\n",
       "      <td>0</td>\n",
       "      <td>0</td>\n",
       "    </tr>\n",
       "    <tr>\n",
       "      <th>3</th>\n",
       "      <td>1410.0</td>\n",
       "      <td>344.0</td>\n",
       "      <td>2</td>\n",
       "      <td>6</td>\n",
       "      <td>0</td>\n",
       "      <td>0</td>\n",
       "      <td>0</td>\n",
       "      <td>0</td>\n",
       "      <td>0</td>\n",
       "      <td>1</td>\n",
       "      <td>0</td>\n",
       "    </tr>\n",
       "    <tr>\n",
       "      <th>4</th>\n",
       "      <td>692.0</td>\n",
       "      <td>98.0</td>\n",
       "      <td>0</td>\n",
       "      <td>4</td>\n",
       "      <td>0</td>\n",
       "      <td>1</td>\n",
       "      <td>0</td>\n",
       "      <td>0</td>\n",
       "      <td>0</td>\n",
       "      <td>1</td>\n",
       "      <td>0</td>\n",
       "    </tr>\n",
       "    <tr>\n",
       "      <th>...</th>\n",
       "      <td>...</td>\n",
       "      <td>...</td>\n",
       "      <td>...</td>\n",
       "      <td>...</td>\n",
       "      <td>...</td>\n",
       "      <td>...</td>\n",
       "      <td>...</td>\n",
       "      <td>...</td>\n",
       "      <td>...</td>\n",
       "      <td>...</td>\n",
       "      <td>...</td>\n",
       "    </tr>\n",
       "    <tr>\n",
       "      <th>539371</th>\n",
       "      <td>1170.0</td>\n",
       "      <td>86.0</td>\n",
       "      <td>4</td>\n",
       "      <td>1</td>\n",
       "      <td>0</td>\n",
       "      <td>0</td>\n",
       "      <td>1</td>\n",
       "      <td>0</td>\n",
       "      <td>0</td>\n",
       "      <td>0</td>\n",
       "      <td>1</td>\n",
       "    </tr>\n",
       "    <tr>\n",
       "      <th>539373</th>\n",
       "      <td>1240.0</td>\n",
       "      <td>154.0</td>\n",
       "      <td>2</td>\n",
       "      <td>7</td>\n",
       "      <td>0</td>\n",
       "      <td>0</td>\n",
       "      <td>0</td>\n",
       "      <td>0</td>\n",
       "      <td>1</td>\n",
       "      <td>0</td>\n",
       "      <td>1</td>\n",
       "    </tr>\n",
       "    <tr>\n",
       "      <th>539375</th>\n",
       "      <td>480.0</td>\n",
       "      <td>287.0</td>\n",
       "      <td>2</td>\n",
       "      <td>2</td>\n",
       "      <td>0</td>\n",
       "      <td>0</td>\n",
       "      <td>0</td>\n",
       "      <td>1</td>\n",
       "      <td>0</td>\n",
       "      <td>0</td>\n",
       "      <td>1</td>\n",
       "    </tr>\n",
       "    <tr>\n",
       "      <th>539377</th>\n",
       "      <td>530.0</td>\n",
       "      <td>72.0</td>\n",
       "      <td>3</td>\n",
       "      <td>5</td>\n",
       "      <td>1</td>\n",
       "      <td>0</td>\n",
       "      <td>0</td>\n",
       "      <td>0</td>\n",
       "      <td>0</td>\n",
       "      <td>1</td>\n",
       "      <td>1</td>\n",
       "    </tr>\n",
       "    <tr>\n",
       "      <th>539379</th>\n",
       "      <td>827.0</td>\n",
       "      <td>74.0</td>\n",
       "      <td>0</td>\n",
       "      <td>2</td>\n",
       "      <td>0</td>\n",
       "      <td>1</td>\n",
       "      <td>0</td>\n",
       "      <td>0</td>\n",
       "      <td>0</td>\n",
       "      <td>1</td>\n",
       "      <td>1</td>\n",
       "    </tr>\n",
       "  </tbody>\n",
       "</table>\n",
       "<p>315753 rows × 11 columns</p>\n",
       "</div>"
      ],
      "text/plain": [
       "          Time  Length  AirportTo  DayOfWeek  Airline_1  Airline_2  \\\n",
       "0       1296.0   141.0          3          1          0          0   \n",
       "1        360.0   146.0          1          4          1          0   \n",
       "2       1170.0   143.0          2          3          0          1   \n",
       "3       1410.0   344.0          2          6          0          0   \n",
       "4        692.0    98.0          0          4          0          1   \n",
       "...        ...     ...        ...        ...        ...        ...   \n",
       "539371  1170.0    86.0          4          1          0          0   \n",
       "539373  1240.0   154.0          2          7          0          0   \n",
       "539375   480.0   287.0          2          2          0          0   \n",
       "539377   530.0    72.0          3          5          1          0   \n",
       "539379   827.0    74.0          0          2          0          1   \n",
       "\n",
       "        AirportFrom_1  AirportFrom_2  AirportFrom_3  AirportFrom_4  Class  \n",
       "0                   0              0              0              0      0  \n",
       "1                   0              0              0              1      0  \n",
       "2                   0              1              0              0      0  \n",
       "3                   0              0              0              1      0  \n",
       "4                   0              0              0              1      0  \n",
       "...               ...            ...            ...            ...    ...  \n",
       "539371              1              0              0              0      1  \n",
       "539373              0              0              1              0      1  \n",
       "539375              0              1              0              0      1  \n",
       "539377              0              0              0              1      1  \n",
       "539379              0              0              0              1      1  \n",
       "\n",
       "[315753 rows x 11 columns]"
      ]
     },
     "execution_count": 18,
     "metadata": {},
     "output_type": "execute_result"
    }
   ],
   "source": [
    "data = create_dummies(\"AirportFrom\", data)\n",
    "data"
   ]
  },
  {
   "cell_type": "markdown",
   "id": "9178f368-ac70-4046-80a6-72a4089879bf",
   "metadata": {},
   "source": [
    "### Dummies for \"AirportTo\""
   ]
  },
  {
   "cell_type": "code",
   "execution_count": 19,
   "id": "d68ea2ab-d231-46af-9657-ff9d4e4a7938",
   "metadata": {
    "collapsed": true,
    "jupyter": {
     "outputs_hidden": true
    }
   },
   "outputs": [
    {
     "data": {
      "text/html": [
       "<div>\n",
       "<style scoped>\n",
       "    .dataframe tbody tr th:only-of-type {\n",
       "        vertical-align: middle;\n",
       "    }\n",
       "\n",
       "    .dataframe tbody tr th {\n",
       "        vertical-align: top;\n",
       "    }\n",
       "\n",
       "    .dataframe thead th {\n",
       "        text-align: right;\n",
       "    }\n",
       "</style>\n",
       "<table border=\"1\" class=\"dataframe\">\n",
       "  <thead>\n",
       "    <tr style=\"text-align: right;\">\n",
       "      <th></th>\n",
       "      <th>Time</th>\n",
       "      <th>Length</th>\n",
       "      <th>DayOfWeek</th>\n",
       "      <th>Airline_1</th>\n",
       "      <th>Airline_2</th>\n",
       "      <th>AirportFrom_1</th>\n",
       "      <th>AirportFrom_2</th>\n",
       "      <th>AirportFrom_3</th>\n",
       "      <th>AirportFrom_4</th>\n",
       "      <th>AirportTo_1</th>\n",
       "      <th>AirportTo_2</th>\n",
       "      <th>AirportTo_3</th>\n",
       "      <th>AirportTo_4</th>\n",
       "      <th>Class</th>\n",
       "    </tr>\n",
       "  </thead>\n",
       "  <tbody>\n",
       "    <tr>\n",
       "      <th>0</th>\n",
       "      <td>1296.0</td>\n",
       "      <td>141.0</td>\n",
       "      <td>1</td>\n",
       "      <td>0</td>\n",
       "      <td>0</td>\n",
       "      <td>0</td>\n",
       "      <td>0</td>\n",
       "      <td>0</td>\n",
       "      <td>0</td>\n",
       "      <td>0</td>\n",
       "      <td>0</td>\n",
       "      <td>1</td>\n",
       "      <td>0</td>\n",
       "      <td>0</td>\n",
       "    </tr>\n",
       "    <tr>\n",
       "      <th>1</th>\n",
       "      <td>360.0</td>\n",
       "      <td>146.0</td>\n",
       "      <td>4</td>\n",
       "      <td>1</td>\n",
       "      <td>0</td>\n",
       "      <td>0</td>\n",
       "      <td>0</td>\n",
       "      <td>0</td>\n",
       "      <td>1</td>\n",
       "      <td>1</td>\n",
       "      <td>0</td>\n",
       "      <td>0</td>\n",
       "      <td>0</td>\n",
       "      <td>0</td>\n",
       "    </tr>\n",
       "    <tr>\n",
       "      <th>2</th>\n",
       "      <td>1170.0</td>\n",
       "      <td>143.0</td>\n",
       "      <td>3</td>\n",
       "      <td>0</td>\n",
       "      <td>1</td>\n",
       "      <td>0</td>\n",
       "      <td>1</td>\n",
       "      <td>0</td>\n",
       "      <td>0</td>\n",
       "      <td>0</td>\n",
       "      <td>1</td>\n",
       "      <td>0</td>\n",
       "      <td>0</td>\n",
       "      <td>0</td>\n",
       "    </tr>\n",
       "    <tr>\n",
       "      <th>3</th>\n",
       "      <td>1410.0</td>\n",
       "      <td>344.0</td>\n",
       "      <td>6</td>\n",
       "      <td>0</td>\n",
       "      <td>0</td>\n",
       "      <td>0</td>\n",
       "      <td>0</td>\n",
       "      <td>0</td>\n",
       "      <td>1</td>\n",
       "      <td>0</td>\n",
       "      <td>1</td>\n",
       "      <td>0</td>\n",
       "      <td>0</td>\n",
       "      <td>0</td>\n",
       "    </tr>\n",
       "    <tr>\n",
       "      <th>4</th>\n",
       "      <td>692.0</td>\n",
       "      <td>98.0</td>\n",
       "      <td>4</td>\n",
       "      <td>0</td>\n",
       "      <td>1</td>\n",
       "      <td>0</td>\n",
       "      <td>0</td>\n",
       "      <td>0</td>\n",
       "      <td>1</td>\n",
       "      <td>0</td>\n",
       "      <td>0</td>\n",
       "      <td>0</td>\n",
       "      <td>0</td>\n",
       "      <td>0</td>\n",
       "    </tr>\n",
       "    <tr>\n",
       "      <th>...</th>\n",
       "      <td>...</td>\n",
       "      <td>...</td>\n",
       "      <td>...</td>\n",
       "      <td>...</td>\n",
       "      <td>...</td>\n",
       "      <td>...</td>\n",
       "      <td>...</td>\n",
       "      <td>...</td>\n",
       "      <td>...</td>\n",
       "      <td>...</td>\n",
       "      <td>...</td>\n",
       "      <td>...</td>\n",
       "      <td>...</td>\n",
       "      <td>...</td>\n",
       "    </tr>\n",
       "    <tr>\n",
       "      <th>539371</th>\n",
       "      <td>1170.0</td>\n",
       "      <td>86.0</td>\n",
       "      <td>1</td>\n",
       "      <td>0</td>\n",
       "      <td>0</td>\n",
       "      <td>1</td>\n",
       "      <td>0</td>\n",
       "      <td>0</td>\n",
       "      <td>0</td>\n",
       "      <td>0</td>\n",
       "      <td>0</td>\n",
       "      <td>0</td>\n",
       "      <td>1</td>\n",
       "      <td>1</td>\n",
       "    </tr>\n",
       "    <tr>\n",
       "      <th>539373</th>\n",
       "      <td>1240.0</td>\n",
       "      <td>154.0</td>\n",
       "      <td>7</td>\n",
       "      <td>0</td>\n",
       "      <td>0</td>\n",
       "      <td>0</td>\n",
       "      <td>0</td>\n",
       "      <td>1</td>\n",
       "      <td>0</td>\n",
       "      <td>0</td>\n",
       "      <td>1</td>\n",
       "      <td>0</td>\n",
       "      <td>0</td>\n",
       "      <td>1</td>\n",
       "    </tr>\n",
       "    <tr>\n",
       "      <th>539375</th>\n",
       "      <td>480.0</td>\n",
       "      <td>287.0</td>\n",
       "      <td>2</td>\n",
       "      <td>0</td>\n",
       "      <td>0</td>\n",
       "      <td>0</td>\n",
       "      <td>1</td>\n",
       "      <td>0</td>\n",
       "      <td>0</td>\n",
       "      <td>0</td>\n",
       "      <td>1</td>\n",
       "      <td>0</td>\n",
       "      <td>0</td>\n",
       "      <td>1</td>\n",
       "    </tr>\n",
       "    <tr>\n",
       "      <th>539377</th>\n",
       "      <td>530.0</td>\n",
       "      <td>72.0</td>\n",
       "      <td>5</td>\n",
       "      <td>1</td>\n",
       "      <td>0</td>\n",
       "      <td>0</td>\n",
       "      <td>0</td>\n",
       "      <td>0</td>\n",
       "      <td>1</td>\n",
       "      <td>0</td>\n",
       "      <td>0</td>\n",
       "      <td>1</td>\n",
       "      <td>0</td>\n",
       "      <td>1</td>\n",
       "    </tr>\n",
       "    <tr>\n",
       "      <th>539379</th>\n",
       "      <td>827.0</td>\n",
       "      <td>74.0</td>\n",
       "      <td>2</td>\n",
       "      <td>0</td>\n",
       "      <td>1</td>\n",
       "      <td>0</td>\n",
       "      <td>0</td>\n",
       "      <td>0</td>\n",
       "      <td>1</td>\n",
       "      <td>0</td>\n",
       "      <td>0</td>\n",
       "      <td>0</td>\n",
       "      <td>0</td>\n",
       "      <td>1</td>\n",
       "    </tr>\n",
       "  </tbody>\n",
       "</table>\n",
       "<p>315753 rows × 14 columns</p>\n",
       "</div>"
      ],
      "text/plain": [
       "          Time  Length  DayOfWeek  Airline_1  Airline_2  AirportFrom_1  \\\n",
       "0       1296.0   141.0          1          0          0              0   \n",
       "1        360.0   146.0          4          1          0              0   \n",
       "2       1170.0   143.0          3          0          1              0   \n",
       "3       1410.0   344.0          6          0          0              0   \n",
       "4        692.0    98.0          4          0          1              0   \n",
       "...        ...     ...        ...        ...        ...            ...   \n",
       "539371  1170.0    86.0          1          0          0              1   \n",
       "539373  1240.0   154.0          7          0          0              0   \n",
       "539375   480.0   287.0          2          0          0              0   \n",
       "539377   530.0    72.0          5          1          0              0   \n",
       "539379   827.0    74.0          2          0          1              0   \n",
       "\n",
       "        AirportFrom_2  AirportFrom_3  AirportFrom_4  AirportTo_1  AirportTo_2  \\\n",
       "0                   0              0              0            0            0   \n",
       "1                   0              0              1            1            0   \n",
       "2                   1              0              0            0            1   \n",
       "3                   0              0              1            0            1   \n",
       "4                   0              0              1            0            0   \n",
       "...               ...            ...            ...          ...          ...   \n",
       "539371              0              0              0            0            0   \n",
       "539373              0              1              0            0            1   \n",
       "539375              1              0              0            0            1   \n",
       "539377              0              0              1            0            0   \n",
       "539379              0              0              1            0            0   \n",
       "\n",
       "        AirportTo_3  AirportTo_4  Class  \n",
       "0                 1            0      0  \n",
       "1                 0            0      0  \n",
       "2                 0            0      0  \n",
       "3                 0            0      0  \n",
       "4                 0            0      0  \n",
       "...             ...          ...    ...  \n",
       "539371            0            1      1  \n",
       "539373            0            0      1  \n",
       "539375            0            0      1  \n",
       "539377            1            0      1  \n",
       "539379            0            0      1  \n",
       "\n",
       "[315753 rows x 14 columns]"
      ]
     },
     "execution_count": 19,
     "metadata": {},
     "output_type": "execute_result"
    }
   ],
   "source": [
    "data = create_dummies(\"AirportTo\", data)\n",
    "data"
   ]
  },
  {
   "cell_type": "markdown",
   "id": "20443334",
   "metadata": {},
   "source": [
    "### Length"
   ]
  },
  {
   "cell_type": "code",
   "execution_count": 20,
   "id": "453f2d45",
   "metadata": {
    "collapsed": true,
    "jupyter": {
     "outputs_hidden": true
    },
    "tags": []
   },
   "outputs": [
    {
     "name": "stdout",
     "output_type": "stream",
     "text": [
      "0.0 655.0\n"
     ]
    }
   ],
   "source": [
    "a = data[\"Length\"].min()\n",
    "b = data[\"Length\"].max()\n",
    "print(a, b)"
   ]
  },
  {
   "cell_type": "code",
   "execution_count": 21,
   "id": "0c172957",
   "metadata": {
    "collapsed": true,
    "jupyter": {
     "outputs_hidden": true
    },
    "tags": []
   },
   "outputs": [
    {
     "data": {
      "text/plain": [
       "Text(0.5, 1.0, \"Distribution of flight's length\")"
      ]
     },
     "execution_count": 21,
     "metadata": {},
     "output_type": "execute_result"
    },
    {
     "data": {
      "image/png": "[encoded data removed]",
      "text/plain": [
       "<Figure size 640x480 with 1 Axes>"
      ]
     },
     "metadata": {},
     "output_type": "display_data"
    }
   ],
   "source": [
    "# checking the distribution of length \n",
    "num_bins = 50\n",
    "entries, bin_edges, patches = plt.hist(data[\"Length\"], \n",
    "                                       bins=num_bins, rwidth=0.7, density=False\n",
    "                                      )\n",
    "\n",
    "plt.xlabel('Length')\n",
    "plt.ylabel('Counts')\n",
    "plt.title('Distribution of flight\\'s length')"
   ]
  },
  {
   "cell_type": "markdown",
   "id": "19cddf7e",
   "metadata": {},
   "source": [
    "### Time"
   ]
  },
  {
   "cell_type": "markdown",
   "id": "03c14ade",
   "metadata": {},
   "source": [
    "In the Time column, time is given in minutes after midnight. For example: 1296 → 21:36h. Let us point out that this time is the time of take-off of a plane, and not the time that a plane was in the air."
   ]
  },
  {
   "cell_type": "code",
   "execution_count": 22,
   "id": "646628e3",
   "metadata": {
    "collapsed": true,
    "jupyter": {
     "outputs_hidden": true
    },
    "tags": []
   },
   "outputs": [
    {
     "name": "stdout",
     "output_type": "stream",
     "text": [
      "10.0 1439.0\n"
     ]
    }
   ],
   "source": [
    "a = data[\"Time\"].min()\n",
    "b = data[\"Time\"].max()\n",
    "print(a, b)"
   ]
  },
  {
   "cell_type": "code",
   "execution_count": 23,
   "id": "88d480b3",
   "metadata": {
    "collapsed": true,
    "jupyter": {
     "outputs_hidden": true
    },
    "tags": []
   },
   "outputs": [
    {
     "data": {
      "text/plain": [
       "Text(0.5, 1.0, 'Distribution of time')"
      ]
     },
     "execution_count": 23,
     "metadata": {},
     "output_type": "execute_result"
    },
    {
     "data": {
      "image/png": "[encoded data removed]",
      "text/plain": [
       "<Figure size 640x480 with 1 Axes>"
      ]
     },
     "metadata": {},
     "output_type": "display_data"
    }
   ],
   "source": [
    "# Checking the distribution of time \n",
    "num_hours = 24\n",
    "entries, bin_edges, patches = plt.hist(data[\"Time\"], \n",
    "                                       bins=num_hours, rwidth=0.8, density=False\n",
    "                                      )\n",
    "\n",
    "plt.xlabel(\"Time of flight\\'s take-off in minutes\")\n",
    "plt.ylabel('Counts')\n",
    "plt.title('Distribution of time')"
   ]
  },
  {
   "cell_type": "markdown",
   "id": "6dcc7b47",
   "metadata": {},
   "source": [
    "The \"Time\" column can be treated as a cathegorical variable. We will create a model where we will check dependence of the output on the part of a day and divide a day into 4 parts: night, morning, afternoon, evening:\n",
    "\n",
    "- night: 0 - 359, (00:00 - 05:59) - 0\n",
    "- morning: 360 - 719, (06:00 - 11:59) - 1\n",
    "- afternoon: 720 - 1079 (12:00 - 17:59) - 2\n",
    "- evening: 1080 - 1440 (18:00 - 23:59) - 3"
   ]
  },
  {
   "cell_type": "code",
   "execution_count": 24,
   "id": "1d837ce8-1d5b-4801-a78c-f85dcd0c9290",
   "metadata": {
    "collapsed": true,
    "jupyter": {
     "outputs_hidden": true
    }
   },
   "outputs": [
    {
     "data": {
      "text/plain": [
       "0         1296.0\n",
       "1          360.0\n",
       "2         1170.0\n",
       "3         1410.0\n",
       "4          692.0\n",
       "           ...  \n",
       "539371    1170.0\n",
       "539373    1240.0\n",
       "539375     480.0\n",
       "539377     530.0\n",
       "539379     827.0\n",
       "Name: Time, Length: 315753, dtype: float64"
      ]
     },
     "execution_count": 24,
     "metadata": {},
     "output_type": "execute_result"
    }
   ],
   "source": [
    "data['Time']"
   ]
  },
  {
   "cell_type": "code",
   "execution_count": 25,
   "id": "7dda9d88-4663-42fd-8598-a050dbcb7081",
   "metadata": {
    "collapsed": true,
    "jupyter": {
     "outputs_hidden": true
    }
   },
   "outputs": [],
   "source": [
    "# Create a function to group the start time of a flight\n",
    "def group_time(time):\n",
    "\n",
    "    timelist = []\n",
    "    for value in time.values:\n",
    "        if 0<=value<=359:\n",
    "            timelist.append(0)\n",
    "        elif 360<=value<=719:\n",
    "            timelist.append(1)\n",
    "        elif 720<=value<=1079:\n",
    "            timelist.append(2)\n",
    "        else:\n",
    "            timelist.append(3)\n",
    "        \n",
    "    return timelist\n",
    "    \n",
    "data[\"Time\"] = group_time(data[\"Time\"])"
   ]
  },
  {
   "cell_type": "code",
   "execution_count": 26,
   "id": "fde3c74c-a0b3-4ea3-9978-e0e871c98ad2",
   "metadata": {
    "collapsed": true,
    "jupyter": {
     "outputs_hidden": true
    }
   },
   "outputs": [
    {
     "data": {
      "text/html": [
       "<div>\n",
       "<style scoped>\n",
       "    .dataframe tbody tr th:only-of-type {\n",
       "        vertical-align: middle;\n",
       "    }\n",
       "\n",
       "    .dataframe tbody tr th {\n",
       "        vertical-align: top;\n",
       "    }\n",
       "\n",
       "    .dataframe thead th {\n",
       "        text-align: right;\n",
       "    }\n",
       "</style>\n",
       "<table border=\"1\" class=\"dataframe\">\n",
       "  <thead>\n",
       "    <tr style=\"text-align: right;\">\n",
       "      <th></th>\n",
       "      <th>Time</th>\n",
       "      <th>Length</th>\n",
       "      <th>DayOfWeek</th>\n",
       "      <th>Airline_1</th>\n",
       "      <th>Airline_2</th>\n",
       "      <th>AirportFrom_1</th>\n",
       "      <th>AirportFrom_2</th>\n",
       "      <th>AirportFrom_3</th>\n",
       "      <th>AirportFrom_4</th>\n",
       "      <th>AirportTo_1</th>\n",
       "      <th>AirportTo_2</th>\n",
       "      <th>AirportTo_3</th>\n",
       "      <th>AirportTo_4</th>\n",
       "      <th>Class</th>\n",
       "    </tr>\n",
       "  </thead>\n",
       "  <tbody>\n",
       "    <tr>\n",
       "      <th>0</th>\n",
       "      <td>3</td>\n",
       "      <td>141.0</td>\n",
       "      <td>1</td>\n",
       "      <td>0</td>\n",
       "      <td>0</td>\n",
       "      <td>0</td>\n",
       "      <td>0</td>\n",
       "      <td>0</td>\n",
       "      <td>0</td>\n",
       "      <td>0</td>\n",
       "      <td>0</td>\n",
       "      <td>1</td>\n",
       "      <td>0</td>\n",
       "      <td>0</td>\n",
       "    </tr>\n",
       "    <tr>\n",
       "      <th>1</th>\n",
       "      <td>1</td>\n",
       "      <td>146.0</td>\n",
       "      <td>4</td>\n",
       "      <td>1</td>\n",
       "      <td>0</td>\n",
       "      <td>0</td>\n",
       "      <td>0</td>\n",
       "      <td>0</td>\n",
       "      <td>1</td>\n",
       "      <td>1</td>\n",
       "      <td>0</td>\n",
       "      <td>0</td>\n",
       "      <td>0</td>\n",
       "      <td>0</td>\n",
       "    </tr>\n",
       "    <tr>\n",
       "      <th>2</th>\n",
       "      <td>3</td>\n",
       "      <td>143.0</td>\n",
       "      <td>3</td>\n",
       "      <td>0</td>\n",
       "      <td>1</td>\n",
       "      <td>0</td>\n",
       "      <td>1</td>\n",
       "      <td>0</td>\n",
       "      <td>0</td>\n",
       "      <td>0</td>\n",
       "      <td>1</td>\n",
       "      <td>0</td>\n",
       "      <td>0</td>\n",
       "      <td>0</td>\n",
       "    </tr>\n",
       "    <tr>\n",
       "      <th>3</th>\n",
       "      <td>3</td>\n",
       "      <td>344.0</td>\n",
       "      <td>6</td>\n",
       "      <td>0</td>\n",
       "      <td>0</td>\n",
       "      <td>0</td>\n",
       "      <td>0</td>\n",
       "      <td>0</td>\n",
       "      <td>1</td>\n",
       "      <td>0</td>\n",
       "      <td>1</td>\n",
       "      <td>0</td>\n",
       "      <td>0</td>\n",
       "      <td>0</td>\n",
       "    </tr>\n",
       "    <tr>\n",
       "      <th>4</th>\n",
       "      <td>1</td>\n",
       "      <td>98.0</td>\n",
       "      <td>4</td>\n",
       "      <td>0</td>\n",
       "      <td>1</td>\n",
       "      <td>0</td>\n",
       "      <td>0</td>\n",
       "      <td>0</td>\n",
       "      <td>1</td>\n",
       "      <td>0</td>\n",
       "      <td>0</td>\n",
       "      <td>0</td>\n",
       "      <td>0</td>\n",
       "      <td>0</td>\n",
       "    </tr>\n",
       "    <tr>\n",
       "      <th>...</th>\n",
       "      <td>...</td>\n",
       "      <td>...</td>\n",
       "      <td>...</td>\n",
       "      <td>...</td>\n",
       "      <td>...</td>\n",
       "      <td>...</td>\n",
       "      <td>...</td>\n",
       "      <td>...</td>\n",
       "      <td>...</td>\n",
       "      <td>...</td>\n",
       "      <td>...</td>\n",
       "      <td>...</td>\n",
       "      <td>...</td>\n",
       "      <td>...</td>\n",
       "    </tr>\n",
       "    <tr>\n",
       "      <th>539371</th>\n",
       "      <td>3</td>\n",
       "      <td>86.0</td>\n",
       "      <td>1</td>\n",
       "      <td>0</td>\n",
       "      <td>0</td>\n",
       "      <td>1</td>\n",
       "      <td>0</td>\n",
       "      <td>0</td>\n",
       "      <td>0</td>\n",
       "      <td>0</td>\n",
       "      <td>0</td>\n",
       "      <td>0</td>\n",
       "      <td>1</td>\n",
       "      <td>1</td>\n",
       "    </tr>\n",
       "    <tr>\n",
       "      <th>539373</th>\n",
       "      <td>3</td>\n",
       "      <td>154.0</td>\n",
       "      <td>7</td>\n",
       "      <td>0</td>\n",
       "      <td>0</td>\n",
       "      <td>0</td>\n",
       "      <td>0</td>\n",
       "      <td>1</td>\n",
       "      <td>0</td>\n",
       "      <td>0</td>\n",
       "      <td>1</td>\n",
       "      <td>0</td>\n",
       "      <td>0</td>\n",
       "      <td>1</td>\n",
       "    </tr>\n",
       "    <tr>\n",
       "      <th>539375</th>\n",
       "      <td>1</td>\n",
       "      <td>287.0</td>\n",
       "      <td>2</td>\n",
       "      <td>0</td>\n",
       "      <td>0</td>\n",
       "      <td>0</td>\n",
       "      <td>1</td>\n",
       "      <td>0</td>\n",
       "      <td>0</td>\n",
       "      <td>0</td>\n",
       "      <td>1</td>\n",
       "      <td>0</td>\n",
       "      <td>0</td>\n",
       "      <td>1</td>\n",
       "    </tr>\n",
       "    <tr>\n",
       "      <th>539377</th>\n",
       "      <td>1</td>\n",
       "      <td>72.0</td>\n",
       "      <td>5</td>\n",
       "      <td>1</td>\n",
       "      <td>0</td>\n",
       "      <td>0</td>\n",
       "      <td>0</td>\n",
       "      <td>0</td>\n",
       "      <td>1</td>\n",
       "      <td>0</td>\n",
       "      <td>0</td>\n",
       "      <td>1</td>\n",
       "      <td>0</td>\n",
       "      <td>1</td>\n",
       "    </tr>\n",
       "    <tr>\n",
       "      <th>539379</th>\n",
       "      <td>2</td>\n",
       "      <td>74.0</td>\n",
       "      <td>2</td>\n",
       "      <td>0</td>\n",
       "      <td>1</td>\n",
       "      <td>0</td>\n",
       "      <td>0</td>\n",
       "      <td>0</td>\n",
       "      <td>1</td>\n",
       "      <td>0</td>\n",
       "      <td>0</td>\n",
       "      <td>0</td>\n",
       "      <td>0</td>\n",
       "      <td>1</td>\n",
       "    </tr>\n",
       "  </tbody>\n",
       "</table>\n",
       "<p>315753 rows × 14 columns</p>\n",
       "</div>"
      ],
      "text/plain": [
       "        Time  Length  DayOfWeek  Airline_1  Airline_2  AirportFrom_1  \\\n",
       "0          3   141.0          1          0          0              0   \n",
       "1          1   146.0          4          1          0              0   \n",
       "2          3   143.0          3          0          1              0   \n",
       "3          3   344.0          6          0          0              0   \n",
       "4          1    98.0          4          0          1              0   \n",
       "...      ...     ...        ...        ...        ...            ...   \n",
       "539371     3    86.0          1          0          0              1   \n",
       "539373     3   154.0          7          0          0              0   \n",
       "539375     1   287.0          2          0          0              0   \n",
       "539377     1    72.0          5          1          0              0   \n",
       "539379     2    74.0          2          0          1              0   \n",
       "\n",
       "        AirportFrom_2  AirportFrom_3  AirportFrom_4  AirportTo_1  AirportTo_2  \\\n",
       "0                   0              0              0            0            0   \n",
       "1                   0              0              1            1            0   \n",
       "2                   1              0              0            0            1   \n",
       "3                   0              0              1            0            1   \n",
       "4                   0              0              1            0            0   \n",
       "...               ...            ...            ...          ...          ...   \n",
       "539371              0              0              0            0            0   \n",
       "539373              0              1              0            0            1   \n",
       "539375              1              0              0            0            1   \n",
       "539377              0              0              1            0            0   \n",
       "539379              0              0              1            0            0   \n",
       "\n",
       "        AirportTo_3  AirportTo_4  Class  \n",
       "0                 1            0      0  \n",
       "1                 0            0      0  \n",
       "2                 0            0      0  \n",
       "3                 0            0      0  \n",
       "4                 0            0      0  \n",
       "...             ...          ...    ...  \n",
       "539371            0            1      1  \n",
       "539373            0            0      1  \n",
       "539375            0            0      1  \n",
       "539377            1            0      1  \n",
       "539379            0            0      1  \n",
       "\n",
       "[315753 rows x 14 columns]"
      ]
     },
     "execution_count": 26,
     "metadata": {},
     "output_type": "execute_result"
    }
   ],
   "source": [
    "data"
   ]
  },
  {
   "cell_type": "markdown",
   "id": "f23fe48a-64f8-4749-9404-47d7ec109274",
   "metadata": {},
   "source": [
    "### Dummies for Time"
   ]
  },
  {
   "cell_type": "code",
   "execution_count": 27,
   "id": "f1d51200-1592-4a7a-9cb9-14ba2cc74fb4",
   "metadata": {
    "collapsed": true,
    "jupyter": {
     "outputs_hidden": true
    }
   },
   "outputs": [
    {
     "data": {
      "text/html": [
       "<div>\n",
       "<style scoped>\n",
       "    .dataframe tbody tr th:only-of-type {\n",
       "        vertical-align: middle;\n",
       "    }\n",
       "\n",
       "    .dataframe tbody tr th {\n",
       "        vertical-align: top;\n",
       "    }\n",
       "\n",
       "    .dataframe thead th {\n",
       "        text-align: right;\n",
       "    }\n",
       "</style>\n",
       "<table border=\"1\" class=\"dataframe\">\n",
       "  <thead>\n",
       "    <tr style=\"text-align: right;\">\n",
       "      <th></th>\n",
       "      <th>Length</th>\n",
       "      <th>DayOfWeek</th>\n",
       "      <th>Airline_1</th>\n",
       "      <th>Airline_2</th>\n",
       "      <th>AirportFrom_1</th>\n",
       "      <th>AirportFrom_2</th>\n",
       "      <th>AirportFrom_3</th>\n",
       "      <th>AirportFrom_4</th>\n",
       "      <th>AirportTo_1</th>\n",
       "      <th>AirportTo_2</th>\n",
       "      <th>AirportTo_3</th>\n",
       "      <th>AirportTo_4</th>\n",
       "      <th>Time_1</th>\n",
       "      <th>Time_2</th>\n",
       "      <th>Time_3</th>\n",
       "      <th>Class</th>\n",
       "    </tr>\n",
       "  </thead>\n",
       "  <tbody>\n",
       "    <tr>\n",
       "      <th>0</th>\n",
       "      <td>141.0</td>\n",
       "      <td>1</td>\n",
       "      <td>0</td>\n",
       "      <td>0</td>\n",
       "      <td>0</td>\n",
       "      <td>0</td>\n",
       "      <td>0</td>\n",
       "      <td>0</td>\n",
       "      <td>0</td>\n",
       "      <td>0</td>\n",
       "      <td>1</td>\n",
       "      <td>0</td>\n",
       "      <td>0</td>\n",
       "      <td>0</td>\n",
       "      <td>1</td>\n",
       "      <td>0</td>\n",
       "    </tr>\n",
       "    <tr>\n",
       "      <th>1</th>\n",
       "      <td>146.0</td>\n",
       "      <td>4</td>\n",
       "      <td>1</td>\n",
       "      <td>0</td>\n",
       "      <td>0</td>\n",
       "      <td>0</td>\n",
       "      <td>0</td>\n",
       "      <td>1</td>\n",
       "      <td>1</td>\n",
       "      <td>0</td>\n",
       "      <td>0</td>\n",
       "      <td>0</td>\n",
       "      <td>1</td>\n",
       "      <td>0</td>\n",
       "      <td>0</td>\n",
       "      <td>0</td>\n",
       "    </tr>\n",
       "    <tr>\n",
       "      <th>2</th>\n",
       "      <td>143.0</td>\n",
       "      <td>3</td>\n",
       "      <td>0</td>\n",
       "      <td>1</td>\n",
       "      <td>0</td>\n",
       "      <td>1</td>\n",
       "      <td>0</td>\n",
       "      <td>0</td>\n",
       "      <td>0</td>\n",
       "      <td>1</td>\n",
       "      <td>0</td>\n",
       "      <td>0</td>\n",
       "      <td>0</td>\n",
       "      <td>0</td>\n",
       "      <td>1</td>\n",
       "      <td>0</td>\n",
       "    </tr>\n",
       "    <tr>\n",
       "      <th>3</th>\n",
       "      <td>344.0</td>\n",
       "      <td>6</td>\n",
       "      <td>0</td>\n",
       "      <td>0</td>\n",
       "      <td>0</td>\n",
       "      <td>0</td>\n",
       "      <td>0</td>\n",
       "      <td>1</td>\n",
       "      <td>0</td>\n",
       "      <td>1</td>\n",
       "      <td>0</td>\n",
       "      <td>0</td>\n",
       "      <td>0</td>\n",
       "      <td>0</td>\n",
       "      <td>1</td>\n",
       "      <td>0</td>\n",
       "    </tr>\n",
       "    <tr>\n",
       "      <th>4</th>\n",
       "      <td>98.0</td>\n",
       "      <td>4</td>\n",
       "      <td>0</td>\n",
       "      <td>1</td>\n",
       "      <td>0</td>\n",
       "      <td>0</td>\n",
       "      <td>0</td>\n",
       "      <td>1</td>\n",
       "      <td>0</td>\n",
       "      <td>0</td>\n",
       "      <td>0</td>\n",
       "      <td>0</td>\n",
       "      <td>1</td>\n",
       "      <td>0</td>\n",
       "      <td>0</td>\n",
       "      <td>0</td>\n",
       "    </tr>\n",
       "    <tr>\n",
       "      <th>...</th>\n",
       "      <td>...</td>\n",
       "      <td>...</td>\n",
       "      <td>...</td>\n",
       "      <td>...</td>\n",
       "      <td>...</td>\n",
       "      <td>...</td>\n",
       "      <td>...</td>\n",
       "      <td>...</td>\n",
       "      <td>...</td>\n",
       "      <td>...</td>\n",
       "      <td>...</td>\n",
       "      <td>...</td>\n",
       "      <td>...</td>\n",
       "      <td>...</td>\n",
       "      <td>...</td>\n",
       "      <td>...</td>\n",
       "    </tr>\n",
       "    <tr>\n",
       "      <th>539371</th>\n",
       "      <td>86.0</td>\n",
       "      <td>1</td>\n",
       "      <td>0</td>\n",
       "      <td>0</td>\n",
       "      <td>1</td>\n",
       "      <td>0</td>\n",
       "      <td>0</td>\n",
       "      <td>0</td>\n",
       "      <td>0</td>\n",
       "      <td>0</td>\n",
       "      <td>0</td>\n",
       "      <td>1</td>\n",
       "      <td>0</td>\n",
       "      <td>0</td>\n",
       "      <td>1</td>\n",
       "      <td>1</td>\n",
       "    </tr>\n",
       "    <tr>\n",
       "      <th>539373</th>\n",
       "      <td>154.0</td>\n",
       "      <td>7</td>\n",
       "      <td>0</td>\n",
       "      <td>0</td>\n",
       "      <td>0</td>\n",
       "      <td>0</td>\n",
       "      <td>1</td>\n",
       "      <td>0</td>\n",
       "      <td>0</td>\n",
       "      <td>1</td>\n",
       "      <td>0</td>\n",
       "      <td>0</td>\n",
       "      <td>0</td>\n",
       "      <td>0</td>\n",
       "      <td>1</td>\n",
       "      <td>1</td>\n",
       "    </tr>\n",
       "    <tr>\n",
       "      <th>539375</th>\n",
       "      <td>287.0</td>\n",
       "      <td>2</td>\n",
       "      <td>0</td>\n",
       "      <td>0</td>\n",
       "      <td>0</td>\n",
       "      <td>1</td>\n",
       "      <td>0</td>\n",
       "      <td>0</td>\n",
       "      <td>0</td>\n",
       "      <td>1</td>\n",
       "      <td>0</td>\n",
       "      <td>0</td>\n",
       "      <td>1</td>\n",
       "      <td>0</td>\n",
       "      <td>0</td>\n",
       "      <td>1</td>\n",
       "    </tr>\n",
       "    <tr>\n",
       "      <th>539377</th>\n",
       "      <td>72.0</td>\n",
       "      <td>5</td>\n",
       "      <td>1</td>\n",
       "      <td>0</td>\n",
       "      <td>0</td>\n",
       "      <td>0</td>\n",
       "      <td>0</td>\n",
       "      <td>1</td>\n",
       "      <td>0</td>\n",
       "      <td>0</td>\n",
       "      <td>1</td>\n",
       "      <td>0</td>\n",
       "      <td>1</td>\n",
       "      <td>0</td>\n",
       "      <td>0</td>\n",
       "      <td>1</td>\n",
       "    </tr>\n",
       "    <tr>\n",
       "      <th>539379</th>\n",
       "      <td>74.0</td>\n",
       "      <td>2</td>\n",
       "      <td>0</td>\n",
       "      <td>1</td>\n",
       "      <td>0</td>\n",
       "      <td>0</td>\n",
       "      <td>0</td>\n",
       "      <td>1</td>\n",
       "      <td>0</td>\n",
       "      <td>0</td>\n",
       "      <td>0</td>\n",
       "      <td>0</td>\n",
       "      <td>0</td>\n",
       "      <td>1</td>\n",
       "      <td>0</td>\n",
       "      <td>1</td>\n",
       "    </tr>\n",
       "  </tbody>\n",
       "</table>\n",
       "<p>315753 rows × 16 columns</p>\n",
       "</div>"
      ],
      "text/plain": [
       "        Length  DayOfWeek  Airline_1  Airline_2  AirportFrom_1  AirportFrom_2  \\\n",
       "0        141.0          1          0          0              0              0   \n",
       "1        146.0          4          1          0              0              0   \n",
       "2        143.0          3          0          1              0              1   \n",
       "3        344.0          6          0          0              0              0   \n",
       "4         98.0          4          0          1              0              0   \n",
       "...        ...        ...        ...        ...            ...            ...   \n",
       "539371    86.0          1          0          0              1              0   \n",
       "539373   154.0          7          0          0              0              0   \n",
       "539375   287.0          2          0          0              0              1   \n",
       "539377    72.0          5          1          0              0              0   \n",
       "539379    74.0          2          0          1              0              0   \n",
       "\n",
       "        AirportFrom_3  AirportFrom_4  AirportTo_1  AirportTo_2  AirportTo_3  \\\n",
       "0                   0              0            0            0            1   \n",
       "1                   0              1            1            0            0   \n",
       "2                   0              0            0            1            0   \n",
       "3                   0              1            0            1            0   \n",
       "4                   0              1            0            0            0   \n",
       "...               ...            ...          ...          ...          ...   \n",
       "539371              0              0            0            0            0   \n",
       "539373              1              0            0            1            0   \n",
       "539375              0              0            0            1            0   \n",
       "539377              0              1            0            0            1   \n",
       "539379              0              1            0            0            0   \n",
       "\n",
       "        AirportTo_4  Time_1  Time_2  Time_3  Class  \n",
       "0                 0       0       0       1      0  \n",
       "1                 0       1       0       0      0  \n",
       "2                 0       0       0       1      0  \n",
       "3                 0       0       0       1      0  \n",
       "4                 0       1       0       0      0  \n",
       "...             ...     ...     ...     ...    ...  \n",
       "539371            1       0       0       1      1  \n",
       "539373            0       0       0       1      1  \n",
       "539375            0       1       0       0      1  \n",
       "539377            0       1       0       0      1  \n",
       "539379            0       0       1       0      1  \n",
       "\n",
       "[315753 rows x 16 columns]"
      ]
     },
     "execution_count": 27,
     "metadata": {},
     "output_type": "execute_result"
    }
   ],
   "source": [
    "data = create_dummies(\"Time\", data)\n",
    "data"
   ]
  },
  {
   "cell_type": "markdown",
   "id": "48caa258-3a82-4ed2-bd38-f6941d7fa0e4",
   "metadata": {},
   "source": [
    "### DayOfWeek"
   ]
  },
  {
   "cell_type": "code",
   "execution_count": 28,
   "id": "529620fc-4d9c-4a54-816a-0267aea849c6",
   "metadata": {
    "collapsed": true,
    "jupyter": {
     "outputs_hidden": true
    },
    "tags": []
   },
   "outputs": [
    {
     "data": {
      "text/plain": [
       "array([1, 4, 3, 6, 7, 2, 5])"
      ]
     },
     "execution_count": 28,
     "metadata": {},
     "output_type": "execute_result"
    }
   ],
   "source": [
    "data[\"DayOfWeek\"].unique()"
   ]
  },
  {
   "cell_type": "code",
   "execution_count": 29,
   "id": "d86bfcf2-c23b-449f-ae08-185dcf721a97",
   "metadata": {
    "collapsed": true,
    "jupyter": {
     "outputs_hidden": true
    },
    "tags": []
   },
   "outputs": [
    {
     "data": {
      "text/plain": [
       "Text(0.5, 1.0, 'Distribution of DayOfWeek')"
      ]
     },
     "execution_count": 29,
     "metadata": {},
     "output_type": "execute_result"
    },
    {
     "data": {
      "image/png": "[encoded data removed]",
      "text/plain": [
       "<Figure size 640x480 with 1 Axes>"
      ]
     },
     "metadata": {},
     "output_type": "display_data"
    }
   ],
   "source": [
    "# Check the distribution of time \n",
    "entries, bin_edges, patches = plt.hist(data[\"DayOfWeek\"], \n",
    "                                       bins=np.arange(0.5, 8.5), rwidth=0.8, density=False\n",
    "                                      )\n",
    "\n",
    "plt.xlabel('DayOfWeek')\n",
    "plt.ylabel('Counts')\n",
    "plt.title('Distribution of DayOfWeek')"
   ]
  },
  {
   "cell_type": "markdown",
   "id": "ff5cdc19-2d88-4d4a-8a1b-7feecacea556",
   "metadata": {},
   "source": [
    "### Dummies for \"DayOfWeek\""
   ]
  },
  {
   "cell_type": "code",
   "execution_count": 30,
   "id": "b5b69f7f-709b-4c3d-adf2-cb7c8be6c720",
   "metadata": {
    "collapsed": true,
    "jupyter": {
     "outputs_hidden": true
    },
    "tags": []
   },
   "outputs": [
    {
     "data": {
      "text/html": [
       "<div>\n",
       "<style scoped>\n",
       "    .dataframe tbody tr th:only-of-type {\n",
       "        vertical-align: middle;\n",
       "    }\n",
       "\n",
       "    .dataframe tbody tr th {\n",
       "        vertical-align: top;\n",
       "    }\n",
       "\n",
       "    .dataframe thead th {\n",
       "        text-align: right;\n",
       "    }\n",
       "</style>\n",
       "<table border=\"1\" class=\"dataframe\">\n",
       "  <thead>\n",
       "    <tr style=\"text-align: right;\">\n",
       "      <th></th>\n",
       "      <th>Length</th>\n",
       "      <th>DayOfWeek</th>\n",
       "      <th>Airline_1</th>\n",
       "      <th>Airline_2</th>\n",
       "      <th>AirportFrom_1</th>\n",
       "      <th>AirportFrom_2</th>\n",
       "      <th>AirportFrom_3</th>\n",
       "      <th>AirportFrom_4</th>\n",
       "      <th>AirportTo_1</th>\n",
       "      <th>AirportTo_2</th>\n",
       "      <th>AirportTo_3</th>\n",
       "      <th>AirportTo_4</th>\n",
       "      <th>Time_1</th>\n",
       "      <th>Time_2</th>\n",
       "      <th>Time_3</th>\n",
       "      <th>Class</th>\n",
       "    </tr>\n",
       "  </thead>\n",
       "  <tbody>\n",
       "    <tr>\n",
       "      <th>0</th>\n",
       "      <td>141.0</td>\n",
       "      <td>0</td>\n",
       "      <td>0</td>\n",
       "      <td>0</td>\n",
       "      <td>0</td>\n",
       "      <td>0</td>\n",
       "      <td>0</td>\n",
       "      <td>0</td>\n",
       "      <td>0</td>\n",
       "      <td>0</td>\n",
       "      <td>1</td>\n",
       "      <td>0</td>\n",
       "      <td>0</td>\n",
       "      <td>0</td>\n",
       "      <td>1</td>\n",
       "      <td>0</td>\n",
       "    </tr>\n",
       "    <tr>\n",
       "      <th>1</th>\n",
       "      <td>146.0</td>\n",
       "      <td>1</td>\n",
       "      <td>1</td>\n",
       "      <td>0</td>\n",
       "      <td>0</td>\n",
       "      <td>0</td>\n",
       "      <td>0</td>\n",
       "      <td>1</td>\n",
       "      <td>1</td>\n",
       "      <td>0</td>\n",
       "      <td>0</td>\n",
       "      <td>0</td>\n",
       "      <td>1</td>\n",
       "      <td>0</td>\n",
       "      <td>0</td>\n",
       "      <td>0</td>\n",
       "    </tr>\n",
       "    <tr>\n",
       "      <th>2</th>\n",
       "      <td>143.0</td>\n",
       "      <td>1</td>\n",
       "      <td>0</td>\n",
       "      <td>1</td>\n",
       "      <td>0</td>\n",
       "      <td>1</td>\n",
       "      <td>0</td>\n",
       "      <td>0</td>\n",
       "      <td>0</td>\n",
       "      <td>1</td>\n",
       "      <td>0</td>\n",
       "      <td>0</td>\n",
       "      <td>0</td>\n",
       "      <td>0</td>\n",
       "      <td>1</td>\n",
       "      <td>0</td>\n",
       "    </tr>\n",
       "    <tr>\n",
       "      <th>3</th>\n",
       "      <td>344.0</td>\n",
       "      <td>2</td>\n",
       "      <td>0</td>\n",
       "      <td>0</td>\n",
       "      <td>0</td>\n",
       "      <td>0</td>\n",
       "      <td>0</td>\n",
       "      <td>1</td>\n",
       "      <td>0</td>\n",
       "      <td>1</td>\n",
       "      <td>0</td>\n",
       "      <td>0</td>\n",
       "      <td>0</td>\n",
       "      <td>0</td>\n",
       "      <td>1</td>\n",
       "      <td>0</td>\n",
       "    </tr>\n",
       "    <tr>\n",
       "      <th>4</th>\n",
       "      <td>98.0</td>\n",
       "      <td>1</td>\n",
       "      <td>0</td>\n",
       "      <td>1</td>\n",
       "      <td>0</td>\n",
       "      <td>0</td>\n",
       "      <td>0</td>\n",
       "      <td>1</td>\n",
       "      <td>0</td>\n",
       "      <td>0</td>\n",
       "      <td>0</td>\n",
       "      <td>0</td>\n",
       "      <td>1</td>\n",
       "      <td>0</td>\n",
       "      <td>0</td>\n",
       "      <td>0</td>\n",
       "    </tr>\n",
       "    <tr>\n",
       "      <th>...</th>\n",
       "      <td>...</td>\n",
       "      <td>...</td>\n",
       "      <td>...</td>\n",
       "      <td>...</td>\n",
       "      <td>...</td>\n",
       "      <td>...</td>\n",
       "      <td>...</td>\n",
       "      <td>...</td>\n",
       "      <td>...</td>\n",
       "      <td>...</td>\n",
       "      <td>...</td>\n",
       "      <td>...</td>\n",
       "      <td>...</td>\n",
       "      <td>...</td>\n",
       "      <td>...</td>\n",
       "      <td>...</td>\n",
       "    </tr>\n",
       "    <tr>\n",
       "      <th>539371</th>\n",
       "      <td>86.0</td>\n",
       "      <td>0</td>\n",
       "      <td>0</td>\n",
       "      <td>0</td>\n",
       "      <td>1</td>\n",
       "      <td>0</td>\n",
       "      <td>0</td>\n",
       "      <td>0</td>\n",
       "      <td>0</td>\n",
       "      <td>0</td>\n",
       "      <td>0</td>\n",
       "      <td>1</td>\n",
       "      <td>0</td>\n",
       "      <td>0</td>\n",
       "      <td>1</td>\n",
       "      <td>1</td>\n",
       "    </tr>\n",
       "    <tr>\n",
       "      <th>539373</th>\n",
       "      <td>154.0</td>\n",
       "      <td>2</td>\n",
       "      <td>0</td>\n",
       "      <td>0</td>\n",
       "      <td>0</td>\n",
       "      <td>0</td>\n",
       "      <td>1</td>\n",
       "      <td>0</td>\n",
       "      <td>0</td>\n",
       "      <td>1</td>\n",
       "      <td>0</td>\n",
       "      <td>0</td>\n",
       "      <td>0</td>\n",
       "      <td>0</td>\n",
       "      <td>1</td>\n",
       "      <td>1</td>\n",
       "    </tr>\n",
       "    <tr>\n",
       "      <th>539375</th>\n",
       "      <td>287.0</td>\n",
       "      <td>0</td>\n",
       "      <td>0</td>\n",
       "      <td>0</td>\n",
       "      <td>0</td>\n",
       "      <td>1</td>\n",
       "      <td>0</td>\n",
       "      <td>0</td>\n",
       "      <td>0</td>\n",
       "      <td>1</td>\n",
       "      <td>0</td>\n",
       "      <td>0</td>\n",
       "      <td>1</td>\n",
       "      <td>0</td>\n",
       "      <td>0</td>\n",
       "      <td>1</td>\n",
       "    </tr>\n",
       "    <tr>\n",
       "      <th>539377</th>\n",
       "      <td>72.0</td>\n",
       "      <td>1</td>\n",
       "      <td>1</td>\n",
       "      <td>0</td>\n",
       "      <td>0</td>\n",
       "      <td>0</td>\n",
       "      <td>0</td>\n",
       "      <td>1</td>\n",
       "      <td>0</td>\n",
       "      <td>0</td>\n",
       "      <td>1</td>\n",
       "      <td>0</td>\n",
       "      <td>1</td>\n",
       "      <td>0</td>\n",
       "      <td>0</td>\n",
       "      <td>1</td>\n",
       "    </tr>\n",
       "    <tr>\n",
       "      <th>539379</th>\n",
       "      <td>74.0</td>\n",
       "      <td>0</td>\n",
       "      <td>0</td>\n",
       "      <td>1</td>\n",
       "      <td>0</td>\n",
       "      <td>0</td>\n",
       "      <td>0</td>\n",
       "      <td>1</td>\n",
       "      <td>0</td>\n",
       "      <td>0</td>\n",
       "      <td>0</td>\n",
       "      <td>0</td>\n",
       "      <td>0</td>\n",
       "      <td>1</td>\n",
       "      <td>0</td>\n",
       "      <td>1</td>\n",
       "    </tr>\n",
       "  </tbody>\n",
       "</table>\n",
       "<p>315753 rows × 16 columns</p>\n",
       "</div>"
      ],
      "text/plain": [
       "        Length  DayOfWeek  Airline_1  Airline_2  AirportFrom_1  AirportFrom_2  \\\n",
       "0        141.0          0          0          0              0              0   \n",
       "1        146.0          1          1          0              0              0   \n",
       "2        143.0          1          0          1              0              1   \n",
       "3        344.0          2          0          0              0              0   \n",
       "4         98.0          1          0          1              0              0   \n",
       "...        ...        ...        ...        ...            ...            ...   \n",
       "539371    86.0          0          0          0              1              0   \n",
       "539373   154.0          2          0          0              0              0   \n",
       "539375   287.0          0          0          0              0              1   \n",
       "539377    72.0          1          1          0              0              0   \n",
       "539379    74.0          0          0          1              0              0   \n",
       "\n",
       "        AirportFrom_3  AirportFrom_4  AirportTo_1  AirportTo_2  AirportTo_3  \\\n",
       "0                   0              0            0            0            1   \n",
       "1                   0              1            1            0            0   \n",
       "2                   0              0            0            1            0   \n",
       "3                   0              1            0            1            0   \n",
       "4                   0              1            0            0            0   \n",
       "...               ...            ...          ...          ...          ...   \n",
       "539371              0              0            0            0            0   \n",
       "539373              1              0            0            1            0   \n",
       "539375              0              0            0            1            0   \n",
       "539377              0              1            0            0            1   \n",
       "539379              0              1            0            0            0   \n",
       "\n",
       "        AirportTo_4  Time_1  Time_2  Time_3  Class  \n",
       "0                 0       0       0       1      0  \n",
       "1                 0       1       0       0      0  \n",
       "2                 0       0       0       1      0  \n",
       "3                 0       0       0       1      0  \n",
       "4                 0       1       0       0      0  \n",
       "...             ...     ...     ...     ...    ...  \n",
       "539371            1       0       0       1      1  \n",
       "539373            0       0       0       1      1  \n",
       "539375            0       1       0       0      1  \n",
       "539377            0       1       0       0      1  \n",
       "539379            0       0       1       0      1  \n",
       "\n",
       "[315753 rows x 16 columns]"
      ]
     },
     "execution_count": 30,
     "metadata": {},
     "output_type": "execute_result"
    }
   ],
   "source": [
    "# Group DayOfWeek into three types: beginning of the week (0), middle of week (1), weekend (2)\n",
    "day_dict = {1:0, 2:0, 3:1, 4:1, 5:1, 6:2, 7:2}\n",
    "\n",
    "data[\"DayOfWeek\"] = data[\"DayOfWeek\"].map(day_dict)\n",
    "data"
   ]
  },
  {
   "cell_type": "code",
   "execution_count": 31,
   "id": "410a9972-08ae-4fa6-bfca-71f1b6347984",
   "metadata": {
    "collapsed": true,
    "jupyter": {
     "outputs_hidden": true
    }
   },
   "outputs": [
    {
     "data": {
      "text/html": [
       "<div>\n",
       "<style scoped>\n",
       "    .dataframe tbody tr th:only-of-type {\n",
       "        vertical-align: middle;\n",
       "    }\n",
       "\n",
       "    .dataframe tbody tr th {\n",
       "        vertical-align: top;\n",
       "    }\n",
       "\n",
       "    .dataframe thead th {\n",
       "        text-align: right;\n",
       "    }\n",
       "</style>\n",
       "<table border=\"1\" class=\"dataframe\">\n",
       "  <thead>\n",
       "    <tr style=\"text-align: right;\">\n",
       "      <th></th>\n",
       "      <th>Length</th>\n",
       "      <th>Airline_1</th>\n",
       "      <th>Airline_2</th>\n",
       "      <th>AirportFrom_1</th>\n",
       "      <th>AirportFrom_2</th>\n",
       "      <th>AirportFrom_3</th>\n",
       "      <th>AirportFrom_4</th>\n",
       "      <th>AirportTo_1</th>\n",
       "      <th>AirportTo_2</th>\n",
       "      <th>AirportTo_3</th>\n",
       "      <th>AirportTo_4</th>\n",
       "      <th>Time_1</th>\n",
       "      <th>Time_2</th>\n",
       "      <th>Time_3</th>\n",
       "      <th>DayOfWeek_1</th>\n",
       "      <th>DayOfWeek_2</th>\n",
       "      <th>Class</th>\n",
       "    </tr>\n",
       "  </thead>\n",
       "  <tbody>\n",
       "    <tr>\n",
       "      <th>0</th>\n",
       "      <td>141.0</td>\n",
       "      <td>0</td>\n",
       "      <td>0</td>\n",
       "      <td>0</td>\n",
       "      <td>0</td>\n",
       "      <td>0</td>\n",
       "      <td>0</td>\n",
       "      <td>0</td>\n",
       "      <td>0</td>\n",
       "      <td>1</td>\n",
       "      <td>0</td>\n",
       "      <td>0</td>\n",
       "      <td>0</td>\n",
       "      <td>1</td>\n",
       "      <td>0</td>\n",
       "      <td>0</td>\n",
       "      <td>0</td>\n",
       "    </tr>\n",
       "    <tr>\n",
       "      <th>1</th>\n",
       "      <td>146.0</td>\n",
       "      <td>1</td>\n",
       "      <td>0</td>\n",
       "      <td>0</td>\n",
       "      <td>0</td>\n",
       "      <td>0</td>\n",
       "      <td>1</td>\n",
       "      <td>1</td>\n",
       "      <td>0</td>\n",
       "      <td>0</td>\n",
       "      <td>0</td>\n",
       "      <td>1</td>\n",
       "      <td>0</td>\n",
       "      <td>0</td>\n",
       "      <td>1</td>\n",
       "      <td>0</td>\n",
       "      <td>0</td>\n",
       "    </tr>\n",
       "    <tr>\n",
       "      <th>2</th>\n",
       "      <td>143.0</td>\n",
       "      <td>0</td>\n",
       "      <td>1</td>\n",
       "      <td>0</td>\n",
       "      <td>1</td>\n",
       "      <td>0</td>\n",
       "      <td>0</td>\n",
       "      <td>0</td>\n",
       "      <td>1</td>\n",
       "      <td>0</td>\n",
       "      <td>0</td>\n",
       "      <td>0</td>\n",
       "      <td>0</td>\n",
       "      <td>1</td>\n",
       "      <td>1</td>\n",
       "      <td>0</td>\n",
       "      <td>0</td>\n",
       "    </tr>\n",
       "    <tr>\n",
       "      <th>3</th>\n",
       "      <td>344.0</td>\n",
       "      <td>0</td>\n",
       "      <td>0</td>\n",
       "      <td>0</td>\n",
       "      <td>0</td>\n",
       "      <td>0</td>\n",
       "      <td>1</td>\n",
       "      <td>0</td>\n",
       "      <td>1</td>\n",
       "      <td>0</td>\n",
       "      <td>0</td>\n",
       "      <td>0</td>\n",
       "      <td>0</td>\n",
       "      <td>1</td>\n",
       "      <td>0</td>\n",
       "      <td>1</td>\n",
       "      <td>0</td>\n",
       "    </tr>\n",
       "    <tr>\n",
       "      <th>4</th>\n",
       "      <td>98.0</td>\n",
       "      <td>0</td>\n",
       "      <td>1</td>\n",
       "      <td>0</td>\n",
       "      <td>0</td>\n",
       "      <td>0</td>\n",
       "      <td>1</td>\n",
       "      <td>0</td>\n",
       "      <td>0</td>\n",
       "      <td>0</td>\n",
       "      <td>0</td>\n",
       "      <td>1</td>\n",
       "      <td>0</td>\n",
       "      <td>0</td>\n",
       "      <td>1</td>\n",
       "      <td>0</td>\n",
       "      <td>0</td>\n",
       "    </tr>\n",
       "    <tr>\n",
       "      <th>...</th>\n",
       "      <td>...</td>\n",
       "      <td>...</td>\n",
       "      <td>...</td>\n",
       "      <td>...</td>\n",
       "      <td>...</td>\n",
       "      <td>...</td>\n",
       "      <td>...</td>\n",
       "      <td>...</td>\n",
       "      <td>...</td>\n",
       "      <td>...</td>\n",
       "      <td>...</td>\n",
       "      <td>...</td>\n",
       "      <td>...</td>\n",
       "      <td>...</td>\n",
       "      <td>...</td>\n",
       "      <td>...</td>\n",
       "      <td>...</td>\n",
       "    </tr>\n",
       "    <tr>\n",
       "      <th>539371</th>\n",
       "      <td>86.0</td>\n",
       "      <td>0</td>\n",
       "      <td>0</td>\n",
       "      <td>1</td>\n",
       "      <td>0</td>\n",
       "      <td>0</td>\n",
       "      <td>0</td>\n",
       "      <td>0</td>\n",
       "      <td>0</td>\n",
       "      <td>0</td>\n",
       "      <td>1</td>\n",
       "      <td>0</td>\n",
       "      <td>0</td>\n",
       "      <td>1</td>\n",
       "      <td>0</td>\n",
       "      <td>0</td>\n",
       "      <td>1</td>\n",
       "    </tr>\n",
       "    <tr>\n",
       "      <th>539373</th>\n",
       "      <td>154.0</td>\n",
       "      <td>0</td>\n",
       "      <td>0</td>\n",
       "      <td>0</td>\n",
       "      <td>0</td>\n",
       "      <td>1</td>\n",
       "      <td>0</td>\n",
       "      <td>0</td>\n",
       "      <td>1</td>\n",
       "      <td>0</td>\n",
       "      <td>0</td>\n",
       "      <td>0</td>\n",
       "      <td>0</td>\n",
       "      <td>1</td>\n",
       "      <td>0</td>\n",
       "      <td>1</td>\n",
       "      <td>1</td>\n",
       "    </tr>\n",
       "    <tr>\n",
       "      <th>539375</th>\n",
       "      <td>287.0</td>\n",
       "      <td>0</td>\n",
       "      <td>0</td>\n",
       "      <td>0</td>\n",
       "      <td>1</td>\n",
       "      <td>0</td>\n",
       "      <td>0</td>\n",
       "      <td>0</td>\n",
       "      <td>1</td>\n",
       "      <td>0</td>\n",
       "      <td>0</td>\n",
       "      <td>1</td>\n",
       "      <td>0</td>\n",
       "      <td>0</td>\n",
       "      <td>0</td>\n",
       "      <td>0</td>\n",
       "      <td>1</td>\n",
       "    </tr>\n",
       "    <tr>\n",
       "      <th>539377</th>\n",
       "      <td>72.0</td>\n",
       "      <td>1</td>\n",
       "      <td>0</td>\n",
       "      <td>0</td>\n",
       "      <td>0</td>\n",
       "      <td>0</td>\n",
       "      <td>1</td>\n",
       "      <td>0</td>\n",
       "      <td>0</td>\n",
       "      <td>1</td>\n",
       "      <td>0</td>\n",
       "      <td>1</td>\n",
       "      <td>0</td>\n",
       "      <td>0</td>\n",
       "      <td>1</td>\n",
       "      <td>0</td>\n",
       "      <td>1</td>\n",
       "    </tr>\n",
       "    <tr>\n",
       "      <th>539379</th>\n",
       "      <td>74.0</td>\n",
       "      <td>0</td>\n",
       "      <td>1</td>\n",
       "      <td>0</td>\n",
       "      <td>0</td>\n",
       "      <td>0</td>\n",
       "      <td>1</td>\n",
       "      <td>0</td>\n",
       "      <td>0</td>\n",
       "      <td>0</td>\n",
       "      <td>0</td>\n",
       "      <td>0</td>\n",
       "      <td>1</td>\n",
       "      <td>0</td>\n",
       "      <td>0</td>\n",
       "      <td>0</td>\n",
       "      <td>1</td>\n",
       "    </tr>\n",
       "  </tbody>\n",
       "</table>\n",
       "<p>315753 rows × 17 columns</p>\n",
       "</div>"
      ],
      "text/plain": [
       "        Length  Airline_1  Airline_2  AirportFrom_1  AirportFrom_2  \\\n",
       "0        141.0          0          0              0              0   \n",
       "1        146.0          1          0              0              0   \n",
       "2        143.0          0          1              0              1   \n",
       "3        344.0          0          0              0              0   \n",
       "4         98.0          0          1              0              0   \n",
       "...        ...        ...        ...            ...            ...   \n",
       "539371    86.0          0          0              1              0   \n",
       "539373   154.0          0          0              0              0   \n",
       "539375   287.0          0          0              0              1   \n",
       "539377    72.0          1          0              0              0   \n",
       "539379    74.0          0          1              0              0   \n",
       "\n",
       "        AirportFrom_3  AirportFrom_4  AirportTo_1  AirportTo_2  AirportTo_3  \\\n",
       "0                   0              0            0            0            1   \n",
       "1                   0              1            1            0            0   \n",
       "2                   0              0            0            1            0   \n",
       "3                   0              1            0            1            0   \n",
       "4                   0              1            0            0            0   \n",
       "...               ...            ...          ...          ...          ...   \n",
       "539371              0              0            0            0            0   \n",
       "539373              1              0            0            1            0   \n",
       "539375              0              0            0            1            0   \n",
       "539377              0              1            0            0            1   \n",
       "539379              0              1            0            0            0   \n",
       "\n",
       "        AirportTo_4  Time_1  Time_2  Time_3  DayOfWeek_1  DayOfWeek_2  Class  \n",
       "0                 0       0       0       1            0            0      0  \n",
       "1                 0       1       0       0            1            0      0  \n",
       "2                 0       0       0       1            1            0      0  \n",
       "3                 0       0       0       1            0            1      0  \n",
       "4                 0       1       0       0            1            0      0  \n",
       "...             ...     ...     ...     ...          ...          ...    ...  \n",
       "539371            1       0       0       1            0            0      1  \n",
       "539373            0       0       0       1            0            1      1  \n",
       "539375            0       1       0       0            0            0      1  \n",
       "539377            0       1       0       0            1            0      1  \n",
       "539379            0       0       1       0            0            0      1  \n",
       "\n",
       "[315753 rows x 17 columns]"
      ]
     },
     "execution_count": 31,
     "metadata": {},
     "output_type": "execute_result"
    }
   ],
   "source": [
    "data = create_dummies(\"DayOfWeek\", data)\n",
    "data"
   ]
  },
  {
   "cell_type": "markdown",
   "id": "4fc470e5-998c-47c0-b3c8-88c4206aec6a",
   "metadata": {},
   "source": [
    "### Check correlations between columns"
   ]
  },
  {
   "cell_type": "code",
   "execution_count": 32,
   "id": "91f67fdf-1924-4a79-9732-6531a8476661",
   "metadata": {
    "collapsed": true,
    "jupyter": {
     "outputs_hidden": true
    },
    "tags": []
   },
   "outputs": [],
   "source": [
    "# Use Pearson correlation coefficient to check correlation between columns\n",
    "correls = data.corr()"
   ]
  },
  {
   "cell_type": "code",
   "execution_count": 33,
   "id": "e8ed5616-bcd7-4ed9-8613-22f345a348e4",
   "metadata": {
    "collapsed": true,
    "jupyter": {
     "outputs_hidden": true
    },
    "tags": []
   },
   "outputs": [
    {
     "data": {
      "text/plain": [
       "<AxesSubplot:>"
      ]
     },
     "execution_count": 33,
     "metadata": {},
     "output_type": "execute_result"
    },
    {
     "data": {
      "image/png": "[encoded data removed]",
      "text/plain": [
       "<Figure size 1500x1500 with 2 Axes>"
      ]
     },
     "metadata": {},
     "output_type": "display_data"
    }
   ],
   "source": [
    "# Show correlation\n",
    "plt.figure(figsize=(15,15))\n",
    "sns.heatmap(data.corr(), annot=True, annot_kws={'size':10}, fmt='.2f', cmap='summer')"
   ]
  },
  {
   "cell_type": "code",
   "execution_count": 34,
   "id": "ca438f15-79c7-456d-9773-f1b179129a7f",
   "metadata": {
    "collapsed": true,
    "jupyter": {
     "outputs_hidden": true
    }
   },
   "outputs": [
    {
     "data": {
      "text/plain": [
       "'Length'"
      ]
     },
     "execution_count": 34,
     "metadata": {},
     "output_type": "execute_result"
    }
   ],
   "source": [
    "correls.values\n",
    "correls.columns.values[0]"
   ]
  },
  {
   "cell_type": "code",
   "execution_count": 35,
   "id": "ddc2507e-8c38-4f7f-9f2a-0d3a3f8a84a7",
   "metadata": {
    "collapsed": true,
    "jupyter": {
     "outputs_hidden": true
    }
   },
   "outputs": [
    {
     "data": {
      "text/plain": [
       "['Time_2', 'AirportFrom_2', 'DayOfWeek_1', 'Time_1', 'AirportTo_2']"
      ]
     },
     "execution_count": 35,
     "metadata": {},
     "output_type": "execute_result"
    }
   ],
   "source": [
    "# Find overcorrelated columns, where \\r\\>=0.4\n",
    "list_col = []\n",
    "for i in range(len(correls.values)):\n",
    "    for j in range (len(correls.index)):\n",
    "        if ((-1< correls.values[i][j] <=-0.4) or (0.4 <= correls.values[i][j] <1)) and i<j:\n",
    "            #data.drop([data.iloc[:,i]], axis=1, inplace=True)\n",
    "            list_col.append(correls.columns.values[i])\n",
    "    \n",
    "# Remove duplicates from the list of overcorrelated columns\n",
    "corr_col = [*set(list_col)]\n",
    "corr_col "
   ]
  },
  {
   "cell_type": "code",
   "execution_count": 36,
   "id": "5df66935-fd2d-4632-891b-449475f64604",
   "metadata": {
    "collapsed": true,
    "jupyter": {
     "outputs_hidden": true
    }
   },
   "outputs": [],
   "source": [
    "# Remove columns with large correlation\n",
    "data.drop(corr_col, axis=1, inplace=True)"
   ]
  },
  {
   "cell_type": "code",
   "execution_count": 37,
   "id": "9f28121c-a188-4bbd-b475-a6b4bc0fe906",
   "metadata": {
    "collapsed": true,
    "jupyter": {
     "outputs_hidden": true
    }
   },
   "outputs": [
    {
     "data": {
      "text/plain": [
       "<AxesSubplot:>"
      ]
     },
     "execution_count": 37,
     "metadata": {},
     "output_type": "execute_result"
    },
    {
     "data": {
      "image/png": "[encoded data removed]",
      "text/plain": [
       "<Figure size 1000x1000 with 2 Axes>"
      ]
     },
     "metadata": {},
     "output_type": "display_data"
    }
   ],
   "source": [
    "# Check Pearson correlation between columns again\n",
    "plt.figure(figsize=(10,10))\n",
    "sns.heatmap(data.corr(), annot=True, annot_kws={'size':10}, fmt='.2f', cmap='summer')"
   ]
  },
  {
   "cell_type": "code",
   "execution_count": 38,
   "id": "e28b5dbc",
   "metadata": {
    "collapsed": true,
    "jupyter": {
     "outputs_hidden": true
    },
    "tags": []
   },
   "outputs": [],
   "source": [
    "data_preprocessed = data.copy()"
   ]
  },
  {
   "cell_type": "markdown",
   "id": "55ca943e-bfe6-46c2-b804-1d9dfc1884cb",
   "metadata": {},
   "source": [
    "## Select inputs and targets"
   ]
  },
  {
   "cell_type": "code",
   "execution_count": 39,
   "id": "b6574fa7-0da7-4be3-b4bf-6769845e5421",
   "metadata": {
    "collapsed": true,
    "jupyter": {
     "outputs_hidden": true
    }
   },
   "outputs": [],
   "source": [
    "targets = data[\"Class\"]\n",
    "inputs = data.iloc[:,:-1]"
   ]
  },
  {
   "cell_type": "markdown",
   "id": "96967133-2e64-484c-bdf9-604df5b5e3e8",
   "metadata": {},
   "source": [
    "## Select dummies"
   ]
  },
  {
   "cell_type": "code",
   "execution_count": 40,
   "id": "3bc191c6-12e3-47c1-ad89-53f525cdaa01",
   "metadata": {
    "collapsed": true,
    "jupyter": {
     "outputs_hidden": true
    }
   },
   "outputs": [],
   "source": [
    "# Define a function to select columns with dummies\n",
    "def select_dummies(data):\n",
    "    \n",
    "    col_dummies = []\n",
    "    for column in data.columns:\n",
    "        vc = data[column].value_counts()\n",
    "        comp = vc.values.tolist()\n",
    "        s = data[column].sum()\n",
    "        \n",
    "        # Compare the number of 1s in the column to the sum of all values\n",
    "        if comp[1] == s:\n",
    "            col_dummies.append(column)\n",
    "        \n",
    "    return col_dummies"
   ]
  },
  {
   "cell_type": "code",
   "execution_count": 41,
   "id": "fbdf3c72-a237-4b54-aea1-9ae498321f80",
   "metadata": {
    "collapsed": true,
    "jupyter": {
     "outputs_hidden": true
    }
   },
   "outputs": [
    {
     "data": {
      "text/plain": [
       "['Airline_1',\n",
       " 'Airline_2',\n",
       " 'AirportFrom_1',\n",
       " 'AirportFrom_3',\n",
       " 'AirportFrom_4',\n",
       " 'AirportTo_1',\n",
       " 'AirportTo_3',\n",
       " 'AirportTo_4',\n",
       " 'Time_3',\n",
       " 'DayOfWeek_2']"
      ]
     },
     "execution_count": 41,
     "metadata": {},
     "output_type": "execute_result"
    }
   ],
   "source": [
    "columns_with_dummies = select_dummies(inputs)\n",
    "columns_with_dummies"
   ]
  },
  {
   "cell_type": "code",
   "execution_count": 42,
   "id": "87a0880f-1756-4367-8710-f11cbe2e4476",
   "metadata": {
    "collapsed": true,
    "jupyter": {
     "outputs_hidden": true
    }
   },
   "outputs": [
    {
     "data": {
      "text/html": [
       "<div>\n",
       "<style scoped>\n",
       "    .dataframe tbody tr th:only-of-type {\n",
       "        vertical-align: middle;\n",
       "    }\n",
       "\n",
       "    .dataframe tbody tr th {\n",
       "        vertical-align: top;\n",
       "    }\n",
       "\n",
       "    .dataframe thead th {\n",
       "        text-align: right;\n",
       "    }\n",
       "</style>\n",
       "<table border=\"1\" class=\"dataframe\">\n",
       "  <thead>\n",
       "    <tr style=\"text-align: right;\">\n",
       "      <th></th>\n",
       "      <th>Length</th>\n",
       "    </tr>\n",
       "  </thead>\n",
       "  <tbody>\n",
       "    <tr>\n",
       "      <th>0</th>\n",
       "      <td>141.0</td>\n",
       "    </tr>\n",
       "    <tr>\n",
       "      <th>1</th>\n",
       "      <td>146.0</td>\n",
       "    </tr>\n",
       "    <tr>\n",
       "      <th>2</th>\n",
       "      <td>143.0</td>\n",
       "    </tr>\n",
       "    <tr>\n",
       "      <th>3</th>\n",
       "      <td>344.0</td>\n",
       "    </tr>\n",
       "    <tr>\n",
       "      <th>4</th>\n",
       "      <td>98.0</td>\n",
       "    </tr>\n",
       "    <tr>\n",
       "      <th>...</th>\n",
       "      <td>...</td>\n",
       "    </tr>\n",
       "    <tr>\n",
       "      <th>539371</th>\n",
       "      <td>86.0</td>\n",
       "    </tr>\n",
       "    <tr>\n",
       "      <th>539373</th>\n",
       "      <td>154.0</td>\n",
       "    </tr>\n",
       "    <tr>\n",
       "      <th>539375</th>\n",
       "      <td>287.0</td>\n",
       "    </tr>\n",
       "    <tr>\n",
       "      <th>539377</th>\n",
       "      <td>72.0</td>\n",
       "    </tr>\n",
       "    <tr>\n",
       "      <th>539379</th>\n",
       "      <td>74.0</td>\n",
       "    </tr>\n",
       "  </tbody>\n",
       "</table>\n",
       "<p>315753 rows × 1 columns</p>\n",
       "</div>"
      ],
      "text/plain": [
       "        Length\n",
       "0        141.0\n",
       "1        146.0\n",
       "2        143.0\n",
       "3        344.0\n",
       "4         98.0\n",
       "...        ...\n",
       "539371    86.0\n",
       "539373   154.0\n",
       "539375   287.0\n",
       "539377    72.0\n",
       "539379    74.0\n",
       "\n",
       "[315753 rows x 1 columns]"
      ]
     },
     "execution_count": 42,
     "metadata": {},
     "output_type": "execute_result"
    }
   ],
   "source": [
    "columns_without_dummies = inputs.drop(columns_with_dummies, axis=1)\n",
    "columns_without_dummies"
   ]
  },
  {
   "cell_type": "markdown",
   "id": "87d893db-5fee-4d67-ac8a-ae5651d70011",
   "metadata": {},
   "source": [
    "## Select outliers"
   ]
  },
  {
   "cell_type": "code",
   "execution_count": 43,
   "id": "3ceaffb7-2149-4fc3-8d52-8cb27a2e110b",
   "metadata": {
    "collapsed": true,
    "jupyter": {
     "outputs_hidden": true
    }
   },
   "outputs": [],
   "source": [
    "# Define function to find outliers and calculate the percentage of them in each column\n",
    "def evaluate_outliers(data):\n",
    "    \n",
    "    outliers_percents = {}\n",
    "    for column in data.columns:\n",
    "        if data[column].dtype!=object:\n",
    "            q1 = np.quantile(data[column], 0.25)\n",
    "            q3 = np.quantile(data[column], 0.75)\n",
    "            iqr = q3 - q1\n",
    "            upper_bound = q3 + (1.5*iqr)\n",
    "            lower_bound = q1 - (1.5*iqr)\n",
    "            outliers = data[(data[column]>upper_bound) | (data[column]<lower_bound)][column]\n",
    "            outliers_percentage = len(outliers)/len(data[column])*100\n",
    "            outliers_percents[column] = outliers_percentage\n",
    "            outliers_dataframe = pd.DataFrame(data=outliers_percents.values(), \n",
    "                                             index=outliers_percents.keys(), \n",
    "                                             columns=['Outlier percentage']\n",
    "                                             )\n",
    "    \n",
    "    return outliers_dataframe.sort_values(by='Outlier percentage', ascending=False)"
   ]
  },
  {
   "cell_type": "code",
   "execution_count": 44,
   "id": "2c654f65-36da-49eb-ad21-b7bab637e383",
   "metadata": {
    "collapsed": true,
    "jupyter": {
     "outputs_hidden": true
    }
   },
   "outputs": [
    {
     "data": {
      "text/html": [
       "<div>\n",
       "<style scoped>\n",
       "    .dataframe tbody tr th:only-of-type {\n",
       "        vertical-align: middle;\n",
       "    }\n",
       "\n",
       "    .dataframe tbody tr th {\n",
       "        vertical-align: top;\n",
       "    }\n",
       "\n",
       "    .dataframe thead th {\n",
       "        text-align: right;\n",
       "    }\n",
       "</style>\n",
       "<table border=\"1\" class=\"dataframe\">\n",
       "  <thead>\n",
       "    <tr style=\"text-align: right;\">\n",
       "      <th></th>\n",
       "      <th>Outlier percentage</th>\n",
       "    </tr>\n",
       "  </thead>\n",
       "  <tbody>\n",
       "    <tr>\n",
       "      <th>Length</th>\n",
       "      <td>4.927903</td>\n",
       "    </tr>\n",
       "  </tbody>\n",
       "</table>\n",
       "</div>"
      ],
      "text/plain": [
       "        Outlier percentage\n",
       "Length            4.927903"
      ]
     },
     "execution_count": 44,
     "metadata": {},
     "output_type": "execute_result"
    }
   ],
   "source": [
    "df_no_dummies = evaluate_outliers(columns_without_dummies)\n",
    "df_no_dummies"
   ]
  },
  {
   "cell_type": "code",
   "execution_count": 45,
   "id": "8353524c-ae0a-4220-ac8a-f8b9dcb78308",
   "metadata": {
    "collapsed": true,
    "jupyter": {
     "outputs_hidden": true
    }
   },
   "outputs": [],
   "source": [
    "#Define function which select columns with outliers\n",
    "def select_outliers(data):\n",
    "    \n",
    "    outliers = []\n",
    "    for column in data.columns:\n",
    "        for i in range(len(data)):\n",
    "            k = data[column].index.tolist()\n",
    "            if data[column][i]>0.0:\n",
    "                outliers.append(k[i])\n",
    "                \n",
    "    return outliers"
   ]
  },
  {
   "cell_type": "code",
   "execution_count": 46,
   "id": "f8ce094f-591b-42f2-b5c7-7d8183ebdd16",
   "metadata": {
    "collapsed": true,
    "jupyter": {
     "outputs_hidden": true
    }
   },
   "outputs": [
    {
     "data": {
      "text/plain": [
       "['Length']"
      ]
     },
     "execution_count": 46,
     "metadata": {},
     "output_type": "execute_result"
    }
   ],
   "source": [
    "columns_with_outliers = select_outliers(df_no_dummies)\n",
    "columns_with_outliers"
   ]
  },
  {
   "cell_type": "code",
   "execution_count": 47,
   "id": "3df01892-6fa0-4c22-a570-3dd69fc6773a",
   "metadata": {
    "collapsed": true,
    "jupyter": {
     "outputs_hidden": true
    }
   },
   "outputs": [
    {
     "data": {
      "text/plain": [
       "array(['Length', 'Airline_1', 'Airline_2', 'AirportFrom_1',\n",
       "       'AirportFrom_3', 'AirportFrom_4', 'AirportTo_1', 'AirportTo_3',\n",
       "       'AirportTo_4', 'Time_3', 'DayOfWeek_2'], dtype=object)"
      ]
     },
     "execution_count": 47,
     "metadata": {},
     "output_type": "execute_result"
    }
   ],
   "source": [
    "inputs.columns.values"
   ]
  },
  {
   "cell_type": "code",
   "execution_count": 48,
   "id": "9d4c9d40-5f74-4056-a0ba-62adc4490773",
   "metadata": {
    "collapsed": true,
    "jupyter": {
     "outputs_hidden": true
    }
   },
   "outputs": [
    {
     "data": {
      "text/plain": [
       "[]"
      ]
     },
     "execution_count": 48,
     "metadata": {},
     "output_type": "execute_result"
    }
   ],
   "source": [
    "columns_without_outliers = [x for x in inputs.columns.values if \n",
    "                            (x not in columns_with_dummies and \n",
    "                             x not in columns_with_outliers)\n",
    "                           ]\n",
    "\n",
    "columns_without_outliers"
   ]
  },
  {
   "cell_type": "code",
   "execution_count": 49,
   "id": "bbda4227-9e22-4633-a454-d7c48b5225c2",
   "metadata": {
    "collapsed": true,
    "jupyter": {
     "outputs_hidden": true
    }
   },
   "outputs": [
    {
     "data": {
      "text/html": [
       "<div>\n",
       "<style scoped>\n",
       "    .dataframe tbody tr th:only-of-type {\n",
       "        vertical-align: middle;\n",
       "    }\n",
       "\n",
       "    .dataframe tbody tr th {\n",
       "        vertical-align: top;\n",
       "    }\n",
       "\n",
       "    .dataframe thead th {\n",
       "        text-align: right;\n",
       "    }\n",
       "</style>\n",
       "<table border=\"1\" class=\"dataframe\">\n",
       "  <thead>\n",
       "    <tr style=\"text-align: right;\">\n",
       "      <th></th>\n",
       "      <th>Length</th>\n",
       "      <th>Airline_1</th>\n",
       "      <th>Airline_2</th>\n",
       "      <th>AirportFrom_1</th>\n",
       "      <th>AirportFrom_3</th>\n",
       "      <th>AirportFrom_4</th>\n",
       "      <th>AirportTo_1</th>\n",
       "      <th>AirportTo_3</th>\n",
       "      <th>AirportTo_4</th>\n",
       "      <th>Time_3</th>\n",
       "      <th>DayOfWeek_2</th>\n",
       "    </tr>\n",
       "  </thead>\n",
       "  <tbody>\n",
       "    <tr>\n",
       "      <th>0</th>\n",
       "      <td>141.0</td>\n",
       "      <td>0</td>\n",
       "      <td>0</td>\n",
       "      <td>0</td>\n",
       "      <td>0</td>\n",
       "      <td>0</td>\n",
       "      <td>0</td>\n",
       "      <td>1</td>\n",
       "      <td>0</td>\n",
       "      <td>1</td>\n",
       "      <td>0</td>\n",
       "    </tr>\n",
       "    <tr>\n",
       "      <th>1</th>\n",
       "      <td>146.0</td>\n",
       "      <td>1</td>\n",
       "      <td>0</td>\n",
       "      <td>0</td>\n",
       "      <td>0</td>\n",
       "      <td>1</td>\n",
       "      <td>1</td>\n",
       "      <td>0</td>\n",
       "      <td>0</td>\n",
       "      <td>0</td>\n",
       "      <td>0</td>\n",
       "    </tr>\n",
       "    <tr>\n",
       "      <th>2</th>\n",
       "      <td>143.0</td>\n",
       "      <td>0</td>\n",
       "      <td>1</td>\n",
       "      <td>0</td>\n",
       "      <td>0</td>\n",
       "      <td>0</td>\n",
       "      <td>0</td>\n",
       "      <td>0</td>\n",
       "      <td>0</td>\n",
       "      <td>1</td>\n",
       "      <td>0</td>\n",
       "    </tr>\n",
       "    <tr>\n",
       "      <th>3</th>\n",
       "      <td>344.0</td>\n",
       "      <td>0</td>\n",
       "      <td>0</td>\n",
       "      <td>0</td>\n",
       "      <td>0</td>\n",
       "      <td>1</td>\n",
       "      <td>0</td>\n",
       "      <td>0</td>\n",
       "      <td>0</td>\n",
       "      <td>1</td>\n",
       "      <td>1</td>\n",
       "    </tr>\n",
       "    <tr>\n",
       "      <th>4</th>\n",
       "      <td>98.0</td>\n",
       "      <td>0</td>\n",
       "      <td>1</td>\n",
       "      <td>0</td>\n",
       "      <td>0</td>\n",
       "      <td>1</td>\n",
       "      <td>0</td>\n",
       "      <td>0</td>\n",
       "      <td>0</td>\n",
       "      <td>0</td>\n",
       "      <td>0</td>\n",
       "    </tr>\n",
       "    <tr>\n",
       "      <th>...</th>\n",
       "      <td>...</td>\n",
       "      <td>...</td>\n",
       "      <td>...</td>\n",
       "      <td>...</td>\n",
       "      <td>...</td>\n",
       "      <td>...</td>\n",
       "      <td>...</td>\n",
       "      <td>...</td>\n",
       "      <td>...</td>\n",
       "      <td>...</td>\n",
       "      <td>...</td>\n",
       "    </tr>\n",
       "    <tr>\n",
       "      <th>315748</th>\n",
       "      <td>86.0</td>\n",
       "      <td>0</td>\n",
       "      <td>0</td>\n",
       "      <td>1</td>\n",
       "      <td>0</td>\n",
       "      <td>0</td>\n",
       "      <td>0</td>\n",
       "      <td>0</td>\n",
       "      <td>1</td>\n",
       "      <td>1</td>\n",
       "      <td>0</td>\n",
       "    </tr>\n",
       "    <tr>\n",
       "      <th>315749</th>\n",
       "      <td>154.0</td>\n",
       "      <td>0</td>\n",
       "      <td>0</td>\n",
       "      <td>0</td>\n",
       "      <td>1</td>\n",
       "      <td>0</td>\n",
       "      <td>0</td>\n",
       "      <td>0</td>\n",
       "      <td>0</td>\n",
       "      <td>1</td>\n",
       "      <td>1</td>\n",
       "    </tr>\n",
       "    <tr>\n",
       "      <th>315750</th>\n",
       "      <td>287.0</td>\n",
       "      <td>0</td>\n",
       "      <td>0</td>\n",
       "      <td>0</td>\n",
       "      <td>0</td>\n",
       "      <td>0</td>\n",
       "      <td>0</td>\n",
       "      <td>0</td>\n",
       "      <td>0</td>\n",
       "      <td>0</td>\n",
       "      <td>0</td>\n",
       "    </tr>\n",
       "    <tr>\n",
       "      <th>315751</th>\n",
       "      <td>72.0</td>\n",
       "      <td>1</td>\n",
       "      <td>0</td>\n",
       "      <td>0</td>\n",
       "      <td>0</td>\n",
       "      <td>1</td>\n",
       "      <td>0</td>\n",
       "      <td>1</td>\n",
       "      <td>0</td>\n",
       "      <td>0</td>\n",
       "      <td>0</td>\n",
       "    </tr>\n",
       "    <tr>\n",
       "      <th>315752</th>\n",
       "      <td>74.0</td>\n",
       "      <td>0</td>\n",
       "      <td>1</td>\n",
       "      <td>0</td>\n",
       "      <td>0</td>\n",
       "      <td>1</td>\n",
       "      <td>0</td>\n",
       "      <td>0</td>\n",
       "      <td>0</td>\n",
       "      <td>0</td>\n",
       "      <td>0</td>\n",
       "    </tr>\n",
       "  </tbody>\n",
       "</table>\n",
       "<p>315753 rows × 11 columns</p>\n",
       "</div>"
      ],
      "text/plain": [
       "        Length  Airline_1  Airline_2  AirportFrom_1  AirportFrom_3  \\\n",
       "0        141.0          0          0              0              0   \n",
       "1        146.0          1          0              0              0   \n",
       "2        143.0          0          1              0              0   \n",
       "3        344.0          0          0              0              0   \n",
       "4         98.0          0          1              0              0   \n",
       "...        ...        ...        ...            ...            ...   \n",
       "315748    86.0          0          0              1              0   \n",
       "315749   154.0          0          0              0              1   \n",
       "315750   287.0          0          0              0              0   \n",
       "315751    72.0          1          0              0              0   \n",
       "315752    74.0          0          1              0              0   \n",
       "\n",
       "        AirportFrom_4  AirportTo_1  AirportTo_3  AirportTo_4  Time_3  \\\n",
       "0                   0            0            1            0       1   \n",
       "1                   1            1            0            0       0   \n",
       "2                   0            0            0            0       1   \n",
       "3                   1            0            0            0       1   \n",
       "4                   1            0            0            0       0   \n",
       "...               ...          ...          ...          ...     ...   \n",
       "315748              0            0            0            1       1   \n",
       "315749              0            0            0            0       1   \n",
       "315750              0            0            0            0       0   \n",
       "315751              1            0            1            0       0   \n",
       "315752              1            0            0            0       0   \n",
       "\n",
       "        DayOfWeek_2  \n",
       "0                 0  \n",
       "1                 0  \n",
       "2                 0  \n",
       "3                 1  \n",
       "4                 0  \n",
       "...             ...  \n",
       "315748            0  \n",
       "315749            1  \n",
       "315750            0  \n",
       "315751            0  \n",
       "315752            0  \n",
       "\n",
       "[315753 rows x 11 columns]"
      ]
     },
     "execution_count": 49,
     "metadata": {},
     "output_type": "execute_result"
    }
   ],
   "source": [
    "inputs.reset_index(inplace=True, drop=True)\n",
    "inputs"
   ]
  },
  {
   "cell_type": "markdown",
   "id": "f22eb2ad-d017-4494-824b-1ce12a92e385",
   "metadata": {},
   "source": [
    "## Standardize data"
   ]
  },
  {
   "cell_type": "markdown",
   "id": "b53f2d10-a106-416f-82ab-06c2f93259ee",
   "metadata": {},
   "source": [
    "In general, one can have three types of data:\n",
    "- dummies\n",
    "- data without outliers\n",
    "- data with outliers\n",
    "\n",
    "Dummies do not have to be standardized, but the other two groups have to be standardized. We create two types of scalers to standardize the two groups. These scalers are of the general use."
   ]
  },
  {
   "cell_type": "markdown",
   "id": "d9f9d95d-32c5-494d-949e-5c78b2d17ee8",
   "metadata": {},
   "source": [
    "### Declare instances of scalers and apply them"
   ]
  },
  {
   "cell_type": "code",
   "execution_count": 50,
   "id": "4c183705-20a1-41a2-9bad-e442a6520ae5",
   "metadata": {
    "collapsed": true,
    "jupyter": {
     "outputs_hidden": true
    }
   },
   "outputs": [],
   "source": [
    "# Load the newly created module for scalers\n",
    "from scalers import *"
   ]
  },
  {
   "cell_type": "code",
   "execution_count": 51,
   "id": "d05e3cee-c2d7-44d7-ae30-2a401e78027e",
   "metadata": {
    "collapsed": true,
    "jupyter": {
     "outputs_hidden": true
    }
   },
   "outputs": [
    {
     "name": "stdout",
     "output_type": "stream",
     "text": [
      "No columns without outliers.\n"
     ]
    },
    {
     "data": {
      "text/html": [
       "<div>\n",
       "<style scoped>\n",
       "    .dataframe tbody tr th:only-of-type {\n",
       "        vertical-align: middle;\n",
       "    }\n",
       "\n",
       "    .dataframe tbody tr th {\n",
       "        vertical-align: top;\n",
       "    }\n",
       "\n",
       "    .dataframe thead th {\n",
       "        text-align: right;\n",
       "    }\n",
       "</style>\n",
       "<table border=\"1\" class=\"dataframe\">\n",
       "  <thead>\n",
       "    <tr style=\"text-align: right;\">\n",
       "      <th></th>\n",
       "      <th>Length</th>\n",
       "      <th>Airline_1</th>\n",
       "      <th>Airline_2</th>\n",
       "      <th>AirportFrom_1</th>\n",
       "      <th>AirportFrom_3</th>\n",
       "      <th>AirportFrom_4</th>\n",
       "      <th>AirportTo_1</th>\n",
       "      <th>AirportTo_3</th>\n",
       "      <th>AirportTo_4</th>\n",
       "      <th>Time_3</th>\n",
       "      <th>DayOfWeek_2</th>\n",
       "    </tr>\n",
       "  </thead>\n",
       "  <tbody>\n",
       "    <tr>\n",
       "      <th>0</th>\n",
       "      <td>141.0</td>\n",
       "      <td>0</td>\n",
       "      <td>0</td>\n",
       "      <td>0</td>\n",
       "      <td>0</td>\n",
       "      <td>0</td>\n",
       "      <td>0</td>\n",
       "      <td>1</td>\n",
       "      <td>0</td>\n",
       "      <td>1</td>\n",
       "      <td>0</td>\n",
       "    </tr>\n",
       "    <tr>\n",
       "      <th>1</th>\n",
       "      <td>146.0</td>\n",
       "      <td>1</td>\n",
       "      <td>0</td>\n",
       "      <td>0</td>\n",
       "      <td>0</td>\n",
       "      <td>1</td>\n",
       "      <td>1</td>\n",
       "      <td>0</td>\n",
       "      <td>0</td>\n",
       "      <td>0</td>\n",
       "      <td>0</td>\n",
       "    </tr>\n",
       "    <tr>\n",
       "      <th>2</th>\n",
       "      <td>143.0</td>\n",
       "      <td>0</td>\n",
       "      <td>1</td>\n",
       "      <td>0</td>\n",
       "      <td>0</td>\n",
       "      <td>0</td>\n",
       "      <td>0</td>\n",
       "      <td>0</td>\n",
       "      <td>0</td>\n",
       "      <td>1</td>\n",
       "      <td>0</td>\n",
       "    </tr>\n",
       "    <tr>\n",
       "      <th>3</th>\n",
       "      <td>344.0</td>\n",
       "      <td>0</td>\n",
       "      <td>0</td>\n",
       "      <td>0</td>\n",
       "      <td>0</td>\n",
       "      <td>1</td>\n",
       "      <td>0</td>\n",
       "      <td>0</td>\n",
       "      <td>0</td>\n",
       "      <td>1</td>\n",
       "      <td>1</td>\n",
       "    </tr>\n",
       "    <tr>\n",
       "      <th>4</th>\n",
       "      <td>98.0</td>\n",
       "      <td>0</td>\n",
       "      <td>1</td>\n",
       "      <td>0</td>\n",
       "      <td>0</td>\n",
       "      <td>1</td>\n",
       "      <td>0</td>\n",
       "      <td>0</td>\n",
       "      <td>0</td>\n",
       "      <td>0</td>\n",
       "      <td>0</td>\n",
       "    </tr>\n",
       "    <tr>\n",
       "      <th>...</th>\n",
       "      <td>...</td>\n",
       "      <td>...</td>\n",
       "      <td>...</td>\n",
       "      <td>...</td>\n",
       "      <td>...</td>\n",
       "      <td>...</td>\n",
       "      <td>...</td>\n",
       "      <td>...</td>\n",
       "      <td>...</td>\n",
       "      <td>...</td>\n",
       "      <td>...</td>\n",
       "    </tr>\n",
       "    <tr>\n",
       "      <th>315748</th>\n",
       "      <td>86.0</td>\n",
       "      <td>0</td>\n",
       "      <td>0</td>\n",
       "      <td>1</td>\n",
       "      <td>0</td>\n",
       "      <td>0</td>\n",
       "      <td>0</td>\n",
       "      <td>0</td>\n",
       "      <td>1</td>\n",
       "      <td>1</td>\n",
       "      <td>0</td>\n",
       "    </tr>\n",
       "    <tr>\n",
       "      <th>315749</th>\n",
       "      <td>154.0</td>\n",
       "      <td>0</td>\n",
       "      <td>0</td>\n",
       "      <td>0</td>\n",
       "      <td>1</td>\n",
       "      <td>0</td>\n",
       "      <td>0</td>\n",
       "      <td>0</td>\n",
       "      <td>0</td>\n",
       "      <td>1</td>\n",
       "      <td>1</td>\n",
       "    </tr>\n",
       "    <tr>\n",
       "      <th>315750</th>\n",
       "      <td>287.0</td>\n",
       "      <td>0</td>\n",
       "      <td>0</td>\n",
       "      <td>0</td>\n",
       "      <td>0</td>\n",
       "      <td>0</td>\n",
       "      <td>0</td>\n",
       "      <td>0</td>\n",
       "      <td>0</td>\n",
       "      <td>0</td>\n",
       "      <td>0</td>\n",
       "    </tr>\n",
       "    <tr>\n",
       "      <th>315751</th>\n",
       "      <td>72.0</td>\n",
       "      <td>1</td>\n",
       "      <td>0</td>\n",
       "      <td>0</td>\n",
       "      <td>0</td>\n",
       "      <td>1</td>\n",
       "      <td>0</td>\n",
       "      <td>1</td>\n",
       "      <td>0</td>\n",
       "      <td>0</td>\n",
       "      <td>0</td>\n",
       "    </tr>\n",
       "    <tr>\n",
       "      <th>315752</th>\n",
       "      <td>74.0</td>\n",
       "      <td>0</td>\n",
       "      <td>1</td>\n",
       "      <td>0</td>\n",
       "      <td>0</td>\n",
       "      <td>1</td>\n",
       "      <td>0</td>\n",
       "      <td>0</td>\n",
       "      <td>0</td>\n",
       "      <td>0</td>\n",
       "      <td>0</td>\n",
       "    </tr>\n",
       "  </tbody>\n",
       "</table>\n",
       "<p>315753 rows × 11 columns</p>\n",
       "</div>"
      ],
      "text/plain": [
       "        Length  Airline_1  Airline_2  AirportFrom_1  AirportFrom_3  \\\n",
       "0        141.0          0          0              0              0   \n",
       "1        146.0          1          0              0              0   \n",
       "2        143.0          0          1              0              0   \n",
       "3        344.0          0          0              0              0   \n",
       "4         98.0          0          1              0              0   \n",
       "...        ...        ...        ...            ...            ...   \n",
       "315748    86.0          0          0              1              0   \n",
       "315749   154.0          0          0              0              1   \n",
       "315750   287.0          0          0              0              0   \n",
       "315751    72.0          1          0              0              0   \n",
       "315752    74.0          0          1              0              0   \n",
       "\n",
       "        AirportFrom_4  AirportTo_1  AirportTo_3  AirportTo_4  Time_3  \\\n",
       "0                   0            0            1            0       1   \n",
       "1                   1            1            0            0       0   \n",
       "2                   0            0            0            0       1   \n",
       "3                   1            0            0            0       1   \n",
       "4                   1            0            0            0       0   \n",
       "...               ...          ...          ...          ...     ...   \n",
       "315748              0            0            0            1       1   \n",
       "315749              0            0            0            0       1   \n",
       "315750              0            0            0            0       0   \n",
       "315751              1            0            1            0       0   \n",
       "315752              1            0            0            0       0   \n",
       "\n",
       "        DayOfWeek_2  \n",
       "0                 0  \n",
       "1                 0  \n",
       "2                 0  \n",
       "3                 1  \n",
       "4                 0  \n",
       "...             ...  \n",
       "315748            0  \n",
       "315749            1  \n",
       "315750            0  \n",
       "315751            0  \n",
       "315752            0  \n",
       "\n",
       "[315753 rows x 11 columns]"
      ]
     },
     "execution_count": 51,
     "metadata": {},
     "output_type": "execute_result"
    }
   ],
   "source": [
    "try:\n",
    "    flights_scaler_standard = CustomScalerStandard(columns_without_outliers)\n",
    "    flights_scaler_standard.fit(inputs)\n",
    "    inputs = flights_scaler_standard.transform(inputs)  \n",
    "except:\n",
    "    print(\"No columns without outliers.\")\n",
    "\n",
    "inputs"
   ]
  },
  {
   "cell_type": "code",
   "execution_count": 52,
   "id": "36ced364-0c2c-408d-b436-8149a37d7fc3",
   "metadata": {
    "collapsed": true,
    "jupyter": {
     "outputs_hidden": true
    }
   },
   "outputs": [
    {
     "data": {
      "text/html": [
       "<div>\n",
       "<style scoped>\n",
       "    .dataframe tbody tr th:only-of-type {\n",
       "        vertical-align: middle;\n",
       "    }\n",
       "\n",
       "    .dataframe tbody tr th {\n",
       "        vertical-align: top;\n",
       "    }\n",
       "\n",
       "    .dataframe thead th {\n",
       "        text-align: right;\n",
       "    }\n",
       "</style>\n",
       "<table border=\"1\" class=\"dataframe\">\n",
       "  <thead>\n",
       "    <tr style=\"text-align: right;\">\n",
       "      <th></th>\n",
       "      <th>Length</th>\n",
       "      <th>Airline_1</th>\n",
       "      <th>Airline_2</th>\n",
       "      <th>AirportFrom_1</th>\n",
       "      <th>AirportFrom_3</th>\n",
       "      <th>AirportFrom_4</th>\n",
       "      <th>AirportTo_1</th>\n",
       "      <th>AirportTo_3</th>\n",
       "      <th>AirportTo_4</th>\n",
       "      <th>Time_3</th>\n",
       "      <th>DayOfWeek_2</th>\n",
       "    </tr>\n",
       "  </thead>\n",
       "  <tbody>\n",
       "    <tr>\n",
       "      <th>0</th>\n",
       "      <td>0.329114</td>\n",
       "      <td>0</td>\n",
       "      <td>0</td>\n",
       "      <td>0</td>\n",
       "      <td>0</td>\n",
       "      <td>0</td>\n",
       "      <td>0</td>\n",
       "      <td>1</td>\n",
       "      <td>0</td>\n",
       "      <td>1</td>\n",
       "      <td>0</td>\n",
       "    </tr>\n",
       "    <tr>\n",
       "      <th>1</th>\n",
       "      <td>0.392405</td>\n",
       "      <td>1</td>\n",
       "      <td>0</td>\n",
       "      <td>0</td>\n",
       "      <td>0</td>\n",
       "      <td>1</td>\n",
       "      <td>1</td>\n",
       "      <td>0</td>\n",
       "      <td>0</td>\n",
       "      <td>0</td>\n",
       "      <td>0</td>\n",
       "    </tr>\n",
       "    <tr>\n",
       "      <th>2</th>\n",
       "      <td>0.354430</td>\n",
       "      <td>0</td>\n",
       "      <td>1</td>\n",
       "      <td>0</td>\n",
       "      <td>0</td>\n",
       "      <td>0</td>\n",
       "      <td>0</td>\n",
       "      <td>0</td>\n",
       "      <td>0</td>\n",
       "      <td>1</td>\n",
       "      <td>0</td>\n",
       "    </tr>\n",
       "    <tr>\n",
       "      <th>3</th>\n",
       "      <td>2.898734</td>\n",
       "      <td>0</td>\n",
       "      <td>0</td>\n",
       "      <td>0</td>\n",
       "      <td>0</td>\n",
       "      <td>1</td>\n",
       "      <td>0</td>\n",
       "      <td>0</td>\n",
       "      <td>0</td>\n",
       "      <td>1</td>\n",
       "      <td>1</td>\n",
       "    </tr>\n",
       "    <tr>\n",
       "      <th>4</th>\n",
       "      <td>-0.215190</td>\n",
       "      <td>0</td>\n",
       "      <td>1</td>\n",
       "      <td>0</td>\n",
       "      <td>0</td>\n",
       "      <td>1</td>\n",
       "      <td>0</td>\n",
       "      <td>0</td>\n",
       "      <td>0</td>\n",
       "      <td>0</td>\n",
       "      <td>0</td>\n",
       "    </tr>\n",
       "    <tr>\n",
       "      <th>...</th>\n",
       "      <td>...</td>\n",
       "      <td>...</td>\n",
       "      <td>...</td>\n",
       "      <td>...</td>\n",
       "      <td>...</td>\n",
       "      <td>...</td>\n",
       "      <td>...</td>\n",
       "      <td>...</td>\n",
       "      <td>...</td>\n",
       "      <td>...</td>\n",
       "      <td>...</td>\n",
       "    </tr>\n",
       "    <tr>\n",
       "      <th>315748</th>\n",
       "      <td>-0.367089</td>\n",
       "      <td>0</td>\n",
       "      <td>0</td>\n",
       "      <td>1</td>\n",
       "      <td>0</td>\n",
       "      <td>0</td>\n",
       "      <td>0</td>\n",
       "      <td>0</td>\n",
       "      <td>1</td>\n",
       "      <td>1</td>\n",
       "      <td>0</td>\n",
       "    </tr>\n",
       "    <tr>\n",
       "      <th>315749</th>\n",
       "      <td>0.493671</td>\n",
       "      <td>0</td>\n",
       "      <td>0</td>\n",
       "      <td>0</td>\n",
       "      <td>1</td>\n",
       "      <td>0</td>\n",
       "      <td>0</td>\n",
       "      <td>0</td>\n",
       "      <td>0</td>\n",
       "      <td>1</td>\n",
       "      <td>1</td>\n",
       "    </tr>\n",
       "    <tr>\n",
       "      <th>315750</th>\n",
       "      <td>2.177215</td>\n",
       "      <td>0</td>\n",
       "      <td>0</td>\n",
       "      <td>0</td>\n",
       "      <td>0</td>\n",
       "      <td>0</td>\n",
       "      <td>0</td>\n",
       "      <td>0</td>\n",
       "      <td>0</td>\n",
       "      <td>0</td>\n",
       "      <td>0</td>\n",
       "    </tr>\n",
       "    <tr>\n",
       "      <th>315751</th>\n",
       "      <td>-0.544304</td>\n",
       "      <td>1</td>\n",
       "      <td>0</td>\n",
       "      <td>0</td>\n",
       "      <td>0</td>\n",
       "      <td>1</td>\n",
       "      <td>0</td>\n",
       "      <td>1</td>\n",
       "      <td>0</td>\n",
       "      <td>0</td>\n",
       "      <td>0</td>\n",
       "    </tr>\n",
       "    <tr>\n",
       "      <th>315752</th>\n",
       "      <td>-0.518987</td>\n",
       "      <td>0</td>\n",
       "      <td>1</td>\n",
       "      <td>0</td>\n",
       "      <td>0</td>\n",
       "      <td>1</td>\n",
       "      <td>0</td>\n",
       "      <td>0</td>\n",
       "      <td>0</td>\n",
       "      <td>0</td>\n",
       "      <td>0</td>\n",
       "    </tr>\n",
       "  </tbody>\n",
       "</table>\n",
       "<p>315753 rows × 11 columns</p>\n",
       "</div>"
      ],
      "text/plain": [
       "          Length  Airline_1  Airline_2  AirportFrom_1  AirportFrom_3  \\\n",
       "0       0.329114          0          0              0              0   \n",
       "1       0.392405          1          0              0              0   \n",
       "2       0.354430          0          1              0              0   \n",
       "3       2.898734          0          0              0              0   \n",
       "4      -0.215190          0          1              0              0   \n",
       "...          ...        ...        ...            ...            ...   \n",
       "315748 -0.367089          0          0              1              0   \n",
       "315749  0.493671          0          0              0              1   \n",
       "315750  2.177215          0          0              0              0   \n",
       "315751 -0.544304          1          0              0              0   \n",
       "315752 -0.518987          0          1              0              0   \n",
       "\n",
       "        AirportFrom_4  AirportTo_1  AirportTo_3  AirportTo_4  Time_3  \\\n",
       "0                   0            0            1            0       1   \n",
       "1                   1            1            0            0       0   \n",
       "2                   0            0            0            0       1   \n",
       "3                   1            0            0            0       1   \n",
       "4                   1            0            0            0       0   \n",
       "...               ...          ...          ...          ...     ...   \n",
       "315748              0            0            0            1       1   \n",
       "315749              0            0            0            0       1   \n",
       "315750              0            0            0            0       0   \n",
       "315751              1            0            1            0       0   \n",
       "315752              1            0            0            0       0   \n",
       "\n",
       "        DayOfWeek_2  \n",
       "0                 0  \n",
       "1                 0  \n",
       "2                 0  \n",
       "3                 1  \n",
       "4                 0  \n",
       "...             ...  \n",
       "315748            0  \n",
       "315749            1  \n",
       "315750            0  \n",
       "315751            0  \n",
       "315752            0  \n",
       "\n",
       "[315753 rows x 11 columns]"
      ]
     },
     "execution_count": 52,
     "metadata": {},
     "output_type": "execute_result"
    }
   ],
   "source": [
    "try:\n",
    "    flights_scaler_robust = CustomScalerRobust(columns_with_outliers)\n",
    "    flights_scaler_robust.fit(inputs)\n",
    "    inputs = flights_scaler_robust.transform(inputs)\n",
    "except:\n",
    "    print(\"No columns with outliers.\")\n",
    "    \n",
    "inputs"
   ]
  },
  {
   "cell_type": "markdown",
   "id": "8bc3141b-9efe-42f6-99cd-7bd0aa719dc6",
   "metadata": {},
   "source": [
    "## Check multicollinearity"
   ]
  },
  {
   "cell_type": "code",
   "execution_count": 53,
   "id": "ae651c97-ea4a-467e-9477-fef550ecbbb0",
   "metadata": {
    "collapsed": true,
    "jupyter": {
     "outputs_hidden": true
    }
   },
   "outputs": [
    {
     "data": {
      "text/html": [
       "<div>\n",
       "<style scoped>\n",
       "    .dataframe tbody tr th:only-of-type {\n",
       "        vertical-align: middle;\n",
       "    }\n",
       "\n",
       "    .dataframe tbody tr th {\n",
       "        vertical-align: top;\n",
       "    }\n",
       "\n",
       "    .dataframe thead th {\n",
       "        text-align: right;\n",
       "    }\n",
       "</style>\n",
       "<table border=\"1\" class=\"dataframe\">\n",
       "  <thead>\n",
       "    <tr style=\"text-align: right;\">\n",
       "      <th></th>\n",
       "      <th>VIF</th>\n",
       "      <th>features</th>\n",
       "    </tr>\n",
       "  </thead>\n",
       "  <tbody>\n",
       "    <tr>\n",
       "      <th>0</th>\n",
       "      <td>1.128296</td>\n",
       "      <td>Length</td>\n",
       "    </tr>\n",
       "    <tr>\n",
       "      <th>1</th>\n",
       "      <td>1.782474</td>\n",
       "      <td>Airline_1</td>\n",
       "    </tr>\n",
       "    <tr>\n",
       "      <th>2</th>\n",
       "      <td>1.769521</td>\n",
       "      <td>Airline_2</td>\n",
       "    </tr>\n",
       "    <tr>\n",
       "      <th>3</th>\n",
       "      <td>1.281613</td>\n",
       "      <td>AirportFrom_1</td>\n",
       "    </tr>\n",
       "    <tr>\n",
       "      <th>4</th>\n",
       "      <td>1.547971</td>\n",
       "      <td>AirportFrom_3</td>\n",
       "    </tr>\n",
       "    <tr>\n",
       "      <th>5</th>\n",
       "      <td>1.381726</td>\n",
       "      <td>AirportFrom_4</td>\n",
       "    </tr>\n",
       "    <tr>\n",
       "      <th>6</th>\n",
       "      <td>1.171398</td>\n",
       "      <td>AirportTo_1</td>\n",
       "    </tr>\n",
       "    <tr>\n",
       "      <th>7</th>\n",
       "      <td>1.671857</td>\n",
       "      <td>AirportTo_3</td>\n",
       "    </tr>\n",
       "    <tr>\n",
       "      <th>8</th>\n",
       "      <td>1.514168</td>\n",
       "      <td>AirportTo_4</td>\n",
       "    </tr>\n",
       "    <tr>\n",
       "      <th>9</th>\n",
       "      <td>1.231923</td>\n",
       "      <td>Time_3</td>\n",
       "    </tr>\n",
       "    <tr>\n",
       "      <th>10</th>\n",
       "      <td>1.279756</td>\n",
       "      <td>DayOfWeek_2</td>\n",
       "    </tr>\n",
       "  </tbody>\n",
       "</table>\n",
       "</div>"
      ],
      "text/plain": [
       "         VIF       features\n",
       "0   1.128296         Length\n",
       "1   1.782474      Airline_1\n",
       "2   1.769521      Airline_2\n",
       "3   1.281613  AirportFrom_1\n",
       "4   1.547971  AirportFrom_3\n",
       "5   1.381726  AirportFrom_4\n",
       "6   1.171398    AirportTo_1\n",
       "7   1.671857    AirportTo_3\n",
       "8   1.514168    AirportTo_4\n",
       "9   1.231923         Time_3\n",
       "10  1.279756    DayOfWeek_2"
      ]
     },
     "execution_count": 53,
     "metadata": {},
     "output_type": "execute_result"
    }
   ],
   "source": [
    "# Check VIF after standarization\n",
    "# Import vif method from models of statistics\n",
    "from statsmodels.stats.outliers_influence import variance_inflation_factor\n",
    "\n",
    "# Define functions that we want to check for multiple collinearity\n",
    "# This part is a part of syntax of vif\n",
    "vif = pd.DataFrame()\n",
    "vif[\"VIF\"] = [variance_inflation_factor(inputs.values, i) for i in range(inputs.shape[1])]\n",
    "vif[\"features\"] = inputs.columns\n",
    "\n",
    "vif"
   ]
  },
  {
   "cell_type": "markdown",
   "id": "603db65e-0bc2-4da1-acb7-70fd6ce844e9",
   "metadata": {},
   "source": [
    "We accept VIF < 5, so no high multicollinearity in this case."
   ]
  },
  {
   "cell_type": "markdown",
   "id": "663cc818-6059-47d2-926e-3d1146e2b0f6",
   "metadata": {},
   "source": [
    "## Features selection"
   ]
  },
  {
   "cell_type": "code",
   "execution_count": 54,
   "id": "1a288c4e-21fc-4ce3-a8be-fe243fa03c9b",
   "metadata": {
    "collapsed": true,
    "jupyter": {
     "outputs_hidden": true
    }
   },
   "outputs": [],
   "source": [
    "# Import an algorithm to select the best set of features\n",
    "from sklearn.feature_selection import SelectKBest, f_classif, mutual_info_classif"
   ]
  },
  {
   "cell_type": "code",
   "execution_count": 55,
   "id": "5924a490-ac30-47fe-814a-794b817a88b2",
   "metadata": {
    "collapsed": true,
    "jupyter": {
     "outputs_hidden": true
    }
   },
   "outputs": [],
   "source": [
    "# Fit and transform the data to select best features\n",
    "col_names = inputs.columns.values\n",
    "\n",
    "sel_feat = SelectKBest(f_classif, k=10)\n",
    "\n",
    "inp = sel_feat.fit_transform(inputs, targets)\n",
    "\n",
    "# Choose proper names of columns by taking their index\n",
    "ind = sel_feat.get_support(indices=True)\n",
    "features_new = col_names[ind]\n",
    "\n",
    "# Create a new dataset for inputs with selected columns only\n",
    "inputs = pd.DataFrame(inp, columns=features_new)"
   ]
  },
  {
   "cell_type": "markdown",
   "id": "7b9c995c-7c45-4ea6-b7ab-71405dee477d",
   "metadata": {},
   "source": [
    "A relatively large number of columns is left (as compared to the original number), to leave enough data for training. It was checked that the metrics after training the model become worse if we decrease too much the number of features. \n",
    "\n",
    "If the number of columns was much higher, the efficiency of feature selection could work better."
   ]
  },
  {
   "cell_type": "markdown",
   "id": "1d18ca5e-f222-45ac-9ed4-27b836fecd6d",
   "metadata": {},
   "source": [
    "## Save inputs and targets without further instances cleaning for experiment"
   ]
  },
  {
   "cell_type": "code",
   "execution_count": 56,
   "id": "8240c0d2-a162-4345-849a-ea1c3e9119f5",
   "metadata": {
    "collapsed": true,
    "jupyter": {
     "outputs_hidden": true
    }
   },
   "outputs": [
    {
     "name": "stdout",
     "output_type": "stream",
     "text": [
      "<class 'pandas.core.frame.DataFrame'>\n",
      "RangeIndex: 315753 entries, 0 to 315752\n",
      "Data columns (total 10 columns):\n",
      " #   Column         Non-Null Count   Dtype  \n",
      "---  ------         --------------   -----  \n",
      " 0   Length         315753 non-null  float64\n",
      " 1   Airline_1      315753 non-null  float64\n",
      " 2   Airline_2      315753 non-null  float64\n",
      " 3   AirportFrom_3  315753 non-null  float64\n",
      " 4   AirportFrom_4  315753 non-null  float64\n",
      " 5   AirportTo_1    315753 non-null  float64\n",
      " 6   AirportTo_3    315753 non-null  float64\n",
      " 7   AirportTo_4    315753 non-null  float64\n",
      " 8   Time_3         315753 non-null  float64\n",
      " 9   DayOfWeek_2    315753 non-null  float64\n",
      "dtypes: float64(10)\n",
      "memory usage: 24.1 MB\n"
     ]
    }
   ],
   "source": [
    "# Before saviong, check the types of all columns\n",
    "inputs.info()"
   ]
  },
  {
   "cell_type": "code",
   "execution_count": 57,
   "id": "ef8479b9-bfa0-42c5-a2db-56877ae7b060",
   "metadata": {
    "collapsed": true,
    "jupyter": {
     "outputs_hidden": true
    }
   },
   "outputs": [
    {
     "name": "stdout",
     "output_type": "stream",
     "text": [
      "<class 'pandas.core.series.Series'>\n",
      "Int64Index: 315753 entries, 0 to 539379\n",
      "Series name: Class\n",
      "Non-Null Count   Dtype\n",
      "--------------   -----\n",
      "315753 non-null  int64\n",
      "dtypes: int64(1)\n",
      "memory usage: 4.8 MB\n"
     ]
    }
   ],
   "source": [
    "targets.info()"
   ]
  },
  {
   "cell_type": "code",
   "execution_count": 58,
   "id": "1478c418-12bf-46a2-b37d-94c5555d9458",
   "metadata": {
    "collapsed": true,
    "jupyter": {
     "outputs_hidden": true
    }
   },
   "outputs": [
    {
     "name": "stdout",
     "output_type": "stream",
     "text": [
      "<class 'pandas.core.frame.DataFrame'>\n",
      "RangeIndex: 315753 entries, 0 to 315752\n",
      "Data columns (total 10 columns):\n",
      " #   Column         Non-Null Count   Dtype   \n",
      "---  ------         --------------   -----   \n",
      " 0   Length         315753 non-null  float64 \n",
      " 1   Airline_1      315753 non-null  category\n",
      " 2   Airline_2      315753 non-null  category\n",
      " 3   AirportFrom_3  315753 non-null  category\n",
      " 4   AirportFrom_4  315753 non-null  category\n",
      " 5   AirportTo_1    315753 non-null  category\n",
      " 6   AirportTo_3    315753 non-null  category\n",
      " 7   AirportTo_4    315753 non-null  category\n",
      " 8   Time_3         315753 non-null  category\n",
      " 9   DayOfWeek_2    315753 non-null  category\n",
      "dtypes: category(9), float64(1)\n",
      "memory usage: 5.1 MB\n"
     ]
    }
   ],
   "source": [
    "# Change the types of the label and all dummies to categorical\n",
    "# This will allow estimators to recognize categorical varibales, and also save some memory\n",
    "\n",
    "# Use CategoricalDtype to allow for ordered=True, then some mathematical operations are possible \n",
    "from pandas.api.types import CategoricalDtype\n",
    "\n",
    "targets = targets.astype(CategoricalDtype(ordered=True))\n",
    "\n",
    "new_col_with_dummies = select_dummies(inputs)\n",
    "inputs[new_col_with_dummies] = inputs[new_col_with_dummies].astype(CategoricalDtype(ordered=True))\n",
    "\n",
    "inputs.info()"
   ]
  },
  {
   "cell_type": "markdown",
   "id": "79911479-773c-496d-ae39-787a301025c3",
   "metadata": {},
   "source": [
    "We save the inputs and targets at this step of preprocessing to see at later stages the comparison of models performance with and without instances selection."
   ]
  },
  {
   "cell_type": "code",
   "execution_count": 59,
   "id": "92a121fc-5dad-4857-9a58-db925413a57f",
   "metadata": {
    "collapsed": true,
    "jupyter": {
     "outputs_hidden": true
    }
   },
   "outputs": [],
   "source": [
    "inputs.to_csv(\"src/inputs_exp.csv\", index=False)\n",
    "targets.to_csv(\"src/targets_exp.csv\", index=False)"
   ]
  },
  {
   "cell_type": "code",
   "execution_count": 60,
   "id": "827f6464-6d25-4eba-80c2-c3df6fa2b92c",
   "metadata": {
    "collapsed": true,
    "jupyter": {
     "outputs_hidden": true
    }
   },
   "outputs": [
    {
     "data": {
      "text/plain": [
       "1.09038728897716"
      ]
     },
     "execution_count": 60,
     "metadata": {},
     "output_type": "execute_result"
    }
   ],
   "source": [
    "# Check the imbalance parameter, which can be needed for training the model to set weights of classes\n",
    "(targets.shape[0]-targets.value_counts()[1])/targets.value_counts()[1]"
   ]
  },
  {
   "cell_type": "markdown",
   "id": "c96202f3-b531-409a-974b-a03f2d0d6f19",
   "metadata": {},
   "source": [
    "## Instances selection"
   ]
  },
  {
   "cell_type": "markdown",
   "id": "4600a6eb-492a-4dc9-a0e8-52edb7142569",
   "metadata": {},
   "source": [
    "This is the key ingredient to make the data well distributed and to remove the oversampled rows which introduce a lot of noise. After ckecking many different methods, the combination of EditedNearestNeighbours and InstanceHarnessThreshold works best for this dataset."
   ]
  },
  {
   "cell_type": "code",
   "execution_count": 61,
   "id": "fd0043cd-300d-44f1-9ad6-a41c58929877",
   "metadata": {
    "collapsed": true,
    "jupyter": {
     "outputs_hidden": true
    }
   },
   "outputs": [],
   "source": [
    "# Load libraries to eliminate the noise row-wise\n",
    "from imblearn.under_sampling import EditedNearestNeighbours\n",
    "from imblearn.under_sampling import InstanceHardnessThreshold\n",
    "\n",
    "from imblearn.pipeline import Pipeline"
   ]
  },
  {
   "cell_type": "code",
   "execution_count": 62,
   "id": "e1c2d130-974f-422d-8f92-40f8b24eb46d",
   "metadata": {
    "collapsed": true,
    "jupyter": {
     "outputs_hidden": true
    },
    "tags": []
   },
   "outputs": [],
   "source": [
    "# Make pipeline to step-by-step eliminate the instances/rows which introduce too much noise to data\n",
    "\n",
    "enn = EditedNearestNeighbours(n_neighbors=5)\n",
    "iht = InstanceHardnessThreshold(random_state=45)\n",
    "\n",
    "pipe = Pipeline([('enn', enn), ('iht', iht)])\n",
    "\n",
    "inputs_a, targets_a = pipe.fit_resample(inputs, targets)"
   ]
  },
  {
   "cell_type": "code",
   "execution_count": 64,
   "id": "8bc8126e-76fb-446d-a393-cdb1201d1449",
   "metadata": {
    "collapsed": true,
    "jupyter": {
     "outputs_hidden": true
    }
   },
   "outputs": [
    {
     "data": {
      "text/plain": [
       "1.09038728897716"
      ]
     },
     "execution_count": 64,
     "metadata": {},
     "output_type": "execute_result"
    }
   ],
   "source": [
    "# Check the imbalance parameter, which can be needed for training the model to set weights of classes\n",
    "(targets.shape[0]-targets.value_counts()[1])/targets.value_counts()[1]"
   ]
  },
  {
   "cell_type": "code",
   "execution_count": 65,
   "id": "930a1fc5-fb86-4fc5-a557-c818b4211a82",
   "metadata": {
    "collapsed": true,
    "jupyter": {
     "outputs_hidden": true
    }
   },
   "outputs": [
    {
     "data": {
      "text/plain": [
       "(153660, 10)"
      ]
     },
     "execution_count": 65,
     "metadata": {},
     "output_type": "execute_result"
    }
   ],
   "source": [
    "inputs_a.shape"
   ]
  },
  {
   "cell_type": "code",
   "execution_count": 66,
   "id": "85c32acf-bef9-43d8-8a7b-42c7c1f26dd9",
   "metadata": {
    "collapsed": true,
    "jupyter": {
     "outputs_hidden": true
    }
   },
   "outputs": [
    {
     "data": {
      "text/plain": [
       "(153660,)"
      ]
     },
     "execution_count": 66,
     "metadata": {},
     "output_type": "execute_result"
    }
   ],
   "source": [
    "targets_a.shape"
   ]
  },
  {
   "cell_type": "markdown",
   "id": "933a24d4",
   "metadata": {},
   "source": [
    "## Save inputs and targets"
   ]
  },
  {
   "cell_type": "code",
   "execution_count": 63,
   "id": "163d0f94",
   "metadata": {
    "collapsed": true,
    "jupyter": {
     "outputs_hidden": true
    },
    "tags": []
   },
   "outputs": [],
   "source": [
    "inputs_a.to_csv(\"src/inputs.csv\", index=False)\n",
    "targets_a.to_csv(\"src/targets.csv\", index=False)"
   ]
  }
 ],
 "metadata": {
  "kernelspec": {
   "display_name": "Python 3 (ipykernel)",
   "language": "python",
   "name": "python3"
  },
  "language_info": {
   "codemirror_mode": {
    "name": "ipython",
    "version": 3
   },
   "file_extension": ".py",
   "mimetype": "text/x-python",
   "name": "python",
   "nbconvert_exporter": "python",
   "pygments_lexer": "ipython3",
   "version": "3.9.13"
  }
 },
 "nbformat": 4,
 "nbformat_minor": 5
}
